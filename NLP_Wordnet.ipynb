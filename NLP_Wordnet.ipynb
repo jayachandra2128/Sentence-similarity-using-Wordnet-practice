{
 "cells": [
  {
   "cell_type": "code",
   "execution_count": 59,
   "metadata": {
    "collapsed": false
   },
   "outputs": [
    {
     "name": "stdout",
     "output_type": "stream",
     "text": [
      "C:\\Users\\jc\n"
     ]
    }
   ],
   "source": [
    "cd\n"
   ]
  },
  {
   "cell_type": "code",
   "execution_count": 60,
   "metadata": {
    "collapsed": false
   },
   "outputs": [
    {
     "name": "stdout",
     "output_type": "stream",
     "text": [
      "C:\\Users\\jc\\Desktop\n"
     ]
    }
   ],
   "source": [
    "cd C:\\Users\\jc\\Desktop"
   ]
  },
  {
   "cell_type": "code",
   "execution_count": 61,
   "metadata": {
    "collapsed": true
   },
   "outputs": [],
   "source": [
    "import pandas as pd\n",
    "import numpy as np"
   ]
  },
  {
   "cell_type": "code",
   "execution_count": 62,
   "metadata": {
    "collapsed": true
   },
   "outputs": [],
   "source": [
    "data= pd.read_csv(\"test.csv\")"
   ]
  },
  {
   "cell_type": "code",
   "execution_count": 63,
   "metadata": {
    "collapsed": false
   },
   "outputs": [
    {
     "data": {
      "text/html": [
       "<div>\n",
       "<table border=\"1\" class=\"dataframe\">\n",
       "  <thead>\n",
       "    <tr style=\"text-align: right;\">\n",
       "      <th></th>\n",
       "      <th>comments</th>\n",
       "    </tr>\n",
       "  </thead>\n",
       "  <tbody>\n",
       "    <tr>\n",
       "      <th>0</th>\n",
       "      <td>Lll</td>\n",
       "    </tr>\n",
       "    <tr>\n",
       "      <th>1</th>\n",
       "      <td>my moms dog hats this song her name is cookie</td>\n",
       "    </tr>\n",
       "    <tr>\n",
       "      <th>2</th>\n",
       "      <td>i feel like this guy attended harvard for music</td>\n",
       "    </tr>\n",
       "    <tr>\n",
       "      <th>3</th>\n",
       "      <td>I kept singing this at math class and my class...</td>\n",
       "    </tr>\n",
       "    <tr>\n",
       "      <th>4</th>\n",
       "      <td>That a Real rap😎🍪</td>\n",
       "    </tr>\n",
       "    <tr>\n",
       "      <th>5</th>\n",
       "      <td>And now he's the head coach at LSU!</td>\n",
       "    </tr>\n",
       "    <tr>\n",
       "      <th>6</th>\n",
       "      <td>Please rise for our national anthem.</td>\n",
       "    </tr>\n",
       "    <tr>\n",
       "      <th>7</th>\n",
       "      <td>I love cookie moster and this song c is for co...</td>\n",
       "    </tr>\n",
       "    <tr>\n",
       "      <th>8</th>\n",
       "      <td>Rhett and link anyone?</td>\n",
       "    </tr>\n",
       "    <tr>\n",
       "      <th>9</th>\n",
       "      <td>This is my life😂😂</td>\n",
       "    </tr>\n",
       "    <tr>\n",
       "      <th>10</th>\n",
       "      <td>sounds like heavy metal</td>\n",
       "    </tr>\n",
       "    <tr>\n",
       "      <th>11</th>\n",
       "      <td>This was my jam as a 1st and 2nd grader.</td>\n",
       "    </tr>\n",
       "    <tr>\n",
       "      <th>12</th>\n",
       "      <td>P is for....</td>\n",
       "    </tr>\n",
       "    <tr>\n",
       "      <th>13</th>\n",
       "      <td>Penguin. I know you were thinking of another w...</td>\n",
       "    </tr>\n",
       "    <tr>\n",
       "      <th>14</th>\n",
       "      <td>chocolate rain</td>\n",
       "    </tr>\n",
       "    <tr>\n",
       "      <th>15</th>\n",
       "      <td>*bites cookie* COOKIE COOKIE COOKIE COOKIE COO...</td>\n",
       "    </tr>\n",
       "    <tr>\n",
       "      <th>16</th>\n",
       "      <td>Lol</td>\n",
       "    </tr>\n",
       "    <tr>\n",
       "      <th>17</th>\n",
       "      <td>eue gosot muito dee cookieee é muitoe baume</td>\n",
       "    </tr>\n",
       "    <tr>\n",
       "      <th>18</th>\n",
       "      <td>쿠키쿠키ㅋㅋㅋ</td>\n",
       "    </tr>\n",
       "    <tr>\n",
       "      <th>19</th>\n",
       "      <td>Babies national anthem</td>\n",
       "    </tr>\n",
       "    <tr>\n",
       "      <th>20</th>\n",
       "      <td>Gfu</td>\n",
       "    </tr>\n",
       "    <tr>\n",
       "      <th>21</th>\n",
       "      <td>U</td>\n",
       "    </tr>\n",
       "    <tr>\n",
       "      <th>22</th>\n",
       "      <td>P is for Pony that's good enough for me</td>\n",
       "    </tr>\n",
       "    <tr>\n",
       "      <th>23</th>\n",
       "      <td>C is for Clown president not good at all for me</td>\n",
       "    </tr>\n",
       "    <tr>\n",
       "      <th>24</th>\n",
       "      <td>I noticed Oscar is singing.</td>\n",
       "    </tr>\n",
       "    <tr>\n",
       "      <th>25</th>\n",
       "      <td>👊🏼🤤</td>\n",
       "    </tr>\n",
       "    <tr>\n",
       "      <th>26</th>\n",
       "      <td>C is fo-</td>\n",
       "    </tr>\n",
       "    <tr>\n",
       "      <th>27</th>\n",
       "      <td>Smoke = CANISTER</td>\n",
       "    </tr>\n",
       "    <tr>\n",
       "      <th>28</th>\n",
       "      <td>COOKIE COOKIEEEEE COOKIE COOKIE</td>\n",
       "    </tr>\n",
       "    <tr>\n",
       "      <th>29</th>\n",
       "      <td>Why did they include Oscar the grouch? He's no...</td>\n",
       "    </tr>\n",
       "    <tr>\n",
       "      <th>...</th>\n",
       "      <td>...</td>\n",
       "    </tr>\n",
       "    <tr>\n",
       "      <th>81</th>\n",
       "      <td>i see grover and harry in the background</td>\n",
       "    </tr>\n",
       "    <tr>\n",
       "      <th>82</th>\n",
       "      <td>C is for cancer</td>\n",
       "    </tr>\n",
       "    <tr>\n",
       "      <th>83</th>\n",
       "      <td>when i was child .. i always dream to have som...</td>\n",
       "    </tr>\n",
       "    <tr>\n",
       "      <th>84</th>\n",
       "      <td>Why am i watching this at 2am</td>\n",
       "    </tr>\n",
       "    <tr>\n",
       "      <th>85</th>\n",
       "      <td>I love it</td>\n",
       "    </tr>\n",
       "    <tr>\n",
       "      <th>86</th>\n",
       "      <td>Oh my god... this was my favorite song when I ...</td>\n",
       "    </tr>\n",
       "    <tr>\n",
       "      <th>87</th>\n",
       "      <td>lol</td>\n",
       "    </tr>\n",
       "    <tr>\n",
       "      <th>88</th>\n",
       "      <td>Cool</td>\n",
       "    </tr>\n",
       "    <tr>\n",
       "      <th>89</th>\n",
       "      <td>:D</td>\n",
       "    </tr>\n",
       "    <tr>\n",
       "      <th>90</th>\n",
       "      <td>NICE</td>\n",
       "    </tr>\n",
       "    <tr>\n",
       "      <th>91</th>\n",
       "      <td>ANOYING</td>\n",
       "    </tr>\n",
       "    <tr>\n",
       "      <th>92</th>\n",
       "      <td>Frank Oz as Cookie Monster</td>\n",
       "    </tr>\n",
       "    <tr>\n",
       "      <th>93</th>\n",
       "      <td>sesame street will always helps me remember Ji...</td>\n",
       "    </tr>\n",
       "    <tr>\n",
       "      <th>94</th>\n",
       "      <td>C is for cookie that's good enough for me</td>\n",
       "    </tr>\n",
       "    <tr>\n",
       "      <th>95</th>\n",
       "      <td>Batman sings C is for cookie.</td>\n",
       "    </tr>\n",
       "    <tr>\n",
       "      <th>96</th>\n",
       "      <td>Such a good song I love it !</td>\n",
       "    </tr>\n",
       "    <tr>\n",
       "      <th>97</th>\n",
       "      <td>C is for Clitoris. That can't be found by me.</td>\n",
       "    </tr>\n",
       "    <tr>\n",
       "      <th>98</th>\n",
       "      <td>I'm here because grog strongjaw</td>\n",
       "    </tr>\n",
       "    <tr>\n",
       "      <th>99</th>\n",
       "      <td>0:39</td>\n",
       "    </tr>\n",
       "    <tr>\n",
       "      <th>100</th>\n",
       "      <td>COOKIE KUKI C  IS FOR COOKIE/KUKI  (a magyarok...</td>\n",
       "    </tr>\n",
       "    <tr>\n",
       "      <th>101</th>\n",
       "      <td>so cute</td>\n",
       "    </tr>\n",
       "    <tr>\n",
       "      <th>102</th>\n",
       "      <td>I'm 40 years old &amp; this is on my music playlist.</td>\n",
       "    </tr>\n",
       "    <tr>\n",
       "      <th>103</th>\n",
       "      <td>I am NOT ashamed.  We all grew up on Sesame St...</td>\n",
       "    </tr>\n",
       "    <tr>\n",
       "      <th>104</th>\n",
       "      <td>hi</td>\n",
       "    </tr>\n",
       "    <tr>\n",
       "      <th>105</th>\n",
       "      <td>this is how 98%percent of rappers now a days s...</td>\n",
       "    </tr>\n",
       "    <tr>\n",
       "      <th>106</th>\n",
       "      <td>The Muppet Performers:</td>\n",
       "    </tr>\n",
       "    <tr>\n",
       "      <th>107</th>\n",
       "      <td>Carroll Spinney - Oscar</td>\n",
       "    </tr>\n",
       "    <tr>\n",
       "      <th>108</th>\n",
       "      <td>Frank Oz - Cookie Monster Grover</td>\n",
       "    </tr>\n",
       "    <tr>\n",
       "      <th>109</th>\n",
       "      <td>Jerry Nelson - Herry Monster</td>\n",
       "    </tr>\n",
       "    <tr>\n",
       "      <th>110</th>\n",
       "      <td>Ah.. I remember listening to this when I was s...</td>\n",
       "    </tr>\n",
       "  </tbody>\n",
       "</table>\n",
       "<p>111 rows × 1 columns</p>\n",
       "</div>"
      ],
      "text/plain": [
       "                                              comments\n",
       "0                                                  Lll\n",
       "1        my moms dog hats this song her name is cookie\n",
       "2      i feel like this guy attended harvard for music\n",
       "3    I kept singing this at math class and my class...\n",
       "4                                  That a Real rap😎🍪\n",
       "5                  And now he's the head coach at LSU!\n",
       "6                 Please rise for our national anthem.\n",
       "7    I love cookie moster and this song c is for co...\n",
       "8                               Rhett and link anyone?\n",
       "9                                  This is my life😂😂\n",
       "10                             sounds like heavy metal\n",
       "11            This was my jam as a 1st and 2nd grader.\n",
       "12                                        P is for....\n",
       "13   Penguin. I know you were thinking of another w...\n",
       "14                                      chocolate rain\n",
       "15   *bites cookie* COOKIE COOKIE COOKIE COOKIE COO...\n",
       "16                                                 Lol\n",
       "17         eue gosot muito dee cookieee é muitoe baume\n",
       "18                                             쿠키쿠키ㅋㅋㅋ\n",
       "19                              Babies national anthem\n",
       "20                                                 Gfu\n",
       "21                                                   U\n",
       "22             P is for Pony that's good enough for me\n",
       "23     C is for Clown president not good at all for me\n",
       "24                         I noticed Oscar is singing.\n",
       "25                                              👊🏼🤤\n",
       "26                                            C is fo-\n",
       "27                                    Smoke = CANISTER\n",
       "28                     COOKIE COOKIEEEEE COOKIE COOKIE\n",
       "29   Why did they include Oscar the grouch? He's no...\n",
       "..                                                 ...\n",
       "81            i see grover and harry in the background\n",
       "82                                     C is for cancer\n",
       "83   when i was child .. i always dream to have som...\n",
       "84                       Why am i watching this at 2am\n",
       "85                                           I love it\n",
       "86   Oh my god... this was my favorite song when I ...\n",
       "87                                                 lol\n",
       "88                                                Cool\n",
       "89                                                  :D\n",
       "90                                                NICE\n",
       "91                                             ANOYING\n",
       "92                          Frank Oz as Cookie Monster\n",
       "93   sesame street will always helps me remember Ji...\n",
       "94           C is for cookie that's good enough for me\n",
       "95                       Batman sings C is for cookie.\n",
       "96                        Such a good song I love it !\n",
       "97       C is for Clitoris. That can't be found by me.\n",
       "98                     I'm here because grog strongjaw\n",
       "99                                                0:39\n",
       "100  COOKIE KUKI C  IS FOR COOKIE/KUKI  (a magyarok...\n",
       "101                                            so cute\n",
       "102   I'm 40 years old & this is on my music playlist.\n",
       "103  I am NOT ashamed.  We all grew up on Sesame St...\n",
       "104                                                 hi\n",
       "105  this is how 98%percent of rappers now a days s...\n",
       "106                             The Muppet Performers:\n",
       "107                            Carroll Spinney - Oscar\n",
       "108                   Frank Oz - Cookie Monster Grover\n",
       "109                       Jerry Nelson - Herry Monster\n",
       "110  Ah.. I remember listening to this when I was s...\n",
       "\n",
       "[111 rows x 1 columns]"
      ]
     },
     "execution_count": 63,
     "metadata": {},
     "output_type": "execute_result"
    }
   ],
   "source": [
    "data"
   ]
  },
  {
   "cell_type": "code",
   "execution_count": 64,
   "metadata": {
    "collapsed": true
   },
   "outputs": [],
   "source": [
    "import nltk"
   ]
  },
  {
   "cell_type": "code",
   "execution_count": 65,
   "metadata": {
    "collapsed": false
   },
   "outputs": [
    {
     "name": "stdout",
     "output_type": "stream",
     "text": [
      "[nltk_data] Downloading package stopwords to\n",
      "[nltk_data]     C:\\Users\\jc\\AppData\\Roaming\\nltk_data...\n",
      "[nltk_data]   Package stopwords is already up-to-date!\n"
     ]
    }
   ],
   "source": [
    "import re\n",
    "import nltk\n",
    "nltk.download('stopwords')\n",
    "from nltk.corpus import stopwords\n",
    "from nltk.stem.porter import PorterStemmer"
   ]
  },
  {
   "cell_type": "code",
   "execution_count": 66,
   "metadata": {
    "collapsed": true
   },
   "outputs": [],
   "source": [
    "corpus = []"
   ]
  },
  {
   "cell_type": "code",
   "execution_count": 67,
   "metadata": {
    "collapsed": true
   },
   "outputs": [],
   "source": [
    "for i in range(0, 110):\n",
    "    review = re.sub('[^a-zA-Z]', ' ', data['comments'][i])\n",
    "    review = review.lower()\n",
    "    review = review.split()\n",
    "    ps = PorterStemmer()\n",
    "    review = [ps.stem(word) for word in review if not word in set(stopwords.words('english'))]\n",
    "    review = ' '.join(review)\n",
    "    corpus.append(review)"
   ]
  },
  {
   "cell_type": "code",
   "execution_count": 68,
   "metadata": {
    "collapsed": false
   },
   "outputs": [
    {
     "data": {
      "text/plain": [
       "['lll',\n",
       " u'mom dog hat song name cooki',\n",
       " u'feel like guy attend harvard music',\n",
       " u'kept sing math class classmat understand',\n",
       " 'real rap',\n",
       " 'head coach lsu',\n",
       " u'pleas rise nation anthem',\n",
       " u'love cooki moster song c cooki',\n",
       " u'rhett link anyon',\n",
       " 'life',\n",
       " u'sound like heavi metal',\n",
       " 'jam st nd grader',\n",
       " 'p',\n",
       " u'penguin know think anoth word',\n",
       " u'chocol rain',\n",
       " u'bite cooki cooki cooki cooki cooki cooki cooki cooki cooki cooki shape like c',\n",
       " 'lol',\n",
       " u'eue gosot muito dee cookiee muito baum',\n",
       " '',\n",
       " u'babi nation anthem',\n",
       " 'gfu',\n",
       " 'u',\n",
       " u'p poni good enough',\n",
       " u'c clown presid good',\n",
       " u'notic oscar sing',\n",
       " '',\n",
       " 'c fo',\n",
       " u'smoke canist',\n",
       " u'cooki cookieeee cooki cooki',\n",
       " u'includ oscar grouch monster',\n",
       " u'cannot stop sing awesom song dont even hlding cooki',\n",
       " u'song awsom',\n",
       " 'feel old',\n",
       " u'duet franki boyl better',\n",
       " u'v veggi good enough',\n",
       " u'nation anthem comment think nation anthem',\n",
       " u'love song cute funni',\n",
       " '',\n",
       " 'iv never hard',\n",
       " u'favorit post grind vegan diabet fur death avant gard pre vegeterian blue core band',\n",
       " u'sesam street cooki monster sing c cooki season season',\n",
       " u'favourit song rn',\n",
       " u'c covfef good enough',\n",
       " u'fun fact part cooki monster goe c rest cut look close',\n",
       " 'still love',\n",
       " u'strong lyric',\n",
       " u'love comment thing littl kid parent',\n",
       " u'older kid teen adult question life desicion',\n",
       " u'heard year lol',\n",
       " u'letter chocol c',\n",
       " u'love cooki',\n",
       " 'childhood song',\n",
       " u'year cooki monster song',\n",
       " u'help fulli grown adult trap sesam street bing',\n",
       " u'c c nt mani themat',\n",
       " u'inde good song know cooki monster song sister believ one replac cooki monster sinc heard rumor replac veggi monster',\n",
       " '',\n",
       " u'love song much nephew use sing sing song littl us marin hahaha',\n",
       " 'loooooooooool',\n",
       " u'person find puppi middleton grotesqu look muscular arm bodi make head look larg let eat cooki happi',\n",
       " u'love cooki',\n",
       " u'si cooki',\n",
       " u'hum sorri k kooki',\n",
       " u'like cooki monster',\n",
       " u'piano lesson one song',\n",
       " 'ja rule',\n",
       " u'bring back mani memori',\n",
       " u'star cooki monster sesam street kako oobi',\n",
       " '',\n",
       " u'kid cartoon channel show video famili tyron isiah hargrov brother jessica jay troch big sister show put show',\n",
       " 'nba k anthem',\n",
       " u'top anim intro',\n",
       " 'use channel logo comment',\n",
       " u'ehhhh got crave cooki watch',\n",
       " u'nowday peopl instead cooki iphon social media sometim thing peopl know',\n",
       " u'littl parent sang c chloe good enough',\n",
       " 'name chloe',\n",
       " u'alway wonder c',\n",
       " u'ha silli cooki monster',\n",
       " 'good song',\n",
       " u'web design lectur eat cooki',\n",
       " u'see grover harri background',\n",
       " 'c cancer',\n",
       " u'child alway dream cooki cooki monster',\n",
       " u'watch',\n",
       " 'love',\n",
       " u'oh god favorit song kid',\n",
       " 'lol',\n",
       " 'cool',\n",
       " '',\n",
       " 'nice',\n",
       " u'anoy',\n",
       " u'frank oz cooki monster',\n",
       " u'sesam street alway help rememb jim henson',\n",
       " u'c cooki good enough',\n",
       " u'batman sing c cooki',\n",
       " 'good song love',\n",
       " u'c clitori found',\n",
       " 'grog strongjaw',\n",
       " '',\n",
       " u'cooki kuki c cooki kuki magyarok bizto rtik xd',\n",
       " 'cute',\n",
       " u'year old music playlist',\n",
       " u'asham grew sesam street',\n",
       " 'hi',\n",
       " u'percent rapper day sound',\n",
       " u'muppet perform',\n",
       " u'carrol spinney oscar',\n",
       " u'frank oz cooki monster grover',\n",
       " u'jerri nelson herri monster']"
      ]
     },
     "execution_count": 68,
     "metadata": {},
     "output_type": "execute_result"
    }
   ],
   "source": [
    "corpus"
   ]
  },
  {
   "cell_type": "code",
   "execution_count": 69,
   "metadata": {
    "collapsed": true
   },
   "outputs": [],
   "source": [
    "from sklearn.feature_extraction.text import CountVectorizer\n",
    "cv = CountVectorizer(max_features = 1500)\n",
    "X = cv.fit_transform(corpus).toarray()"
   ]
  },
  {
   "cell_type": "code",
   "execution_count": 70,
   "metadata": {
    "collapsed": false
   },
   "outputs": [
    {
     "data": {
      "text/plain": [
       "(110L, 265L)"
      ]
     },
     "execution_count": 70,
     "metadata": {},
     "output_type": "execute_result"
    }
   ],
   "source": [
    "X.shape"
   ]
  },
  {
   "cell_type": "code",
   "execution_count": 71,
   "metadata": {
    "collapsed": false
   },
   "outputs": [
    {
     "data": {
      "text/plain": [
       "array([[0, 0, 0, ..., 0, 0, 0],\n",
       "       [0, 0, 0, ..., 0, 0, 0],\n",
       "       [0, 0, 0, ..., 0, 0, 0],\n",
       "       ..., \n",
       "       [0, 0, 0, ..., 0, 0, 0],\n",
       "       [0, 0, 0, ..., 0, 0, 0],\n",
       "       [0, 0, 0, ..., 0, 0, 0]], dtype=int64)"
      ]
     },
     "execution_count": 71,
     "metadata": {},
     "output_type": "execute_result"
    }
   ],
   "source": [
    "X"
   ]
  },
  {
   "cell_type": "code",
   "execution_count": 72,
   "metadata": {
    "collapsed": false
   },
   "outputs": [
    {
     "name": "stdout",
     "output_type": "stream",
     "text": [
      "[u'adult', u'alway', u'anim', u'anoth', u'anoy', u'anthem', u'anyon', u'arm', u'asham', u'attend', u'avant', u'awesom', u'awsom', u'babi', u'back', u'background', u'band', u'batman', u'baum', u'believ', u'better', u'big', u'bing', u'bite', u'bizto', u'blue', u'bodi', u'boyl', u'bring', u'brother', u'cancer', u'canist', u'cannot', u'carrol', u'cartoon', u'channel', u'child', u'childhood', u'chloe', u'chocol', u'class', u'classmat', u'clitori', u'close', u'clown', u'coach', u'comment', u'cooki', u'cookiee', u'cookieeee', u'cool', u'core', u'covfef', u'crave', u'cut', u'cute', u'day', u'death', u'dee', u'desicion', u'design', u'diabet', u'dog', u'dont', u'dream', u'duet', u'eat', u'ehhhh', u'enough', u'eue', u'even', u'fact', u'famili', u'favorit', u'favourit', u'feel', u'find', u'fo', u'found', u'frank', u'franki', u'fulli', u'fun', u'funni', u'fur', u'gard', u'gfu', u'god', u'goe', u'good', u'gosot', u'got', u'grader', u'grew', u'grind', u'grog', u'grotesqu', u'grouch', u'grover', u'grown', u'guy', u'ha', u'hahaha', u'happi', u'hard', u'hargrov', u'harri', u'harvard', u'hat', u'head', u'heard', u'heavi', u'help', u'henson', u'herri', u'hi', u'hlding', u'hum', u'includ', u'inde', u'instead', u'intro', u'iphon', u'isiah', u'iv', u'ja', u'jam', u'jay', u'jerri', u'jessica', u'jim', u'kako', u'kept', u'kid', u'know', u'kooki', u'kuki', u'larg', u'lectur', u'lesson', u'let', u'letter', u'life', u'like', u'link', u'littl', u'lll', u'logo', u'lol', u'look', u'loooooooooool', u'love', u'lsu', u'lyric', u'magyarok', u'make', u'mani', u'marin', u'math', u'media', u'memori', u'metal', u'middleton', u'mom', u'monster', u'moster', u'much', u'muito', u'muppet', u'muscular', u'music', u'name', u'nation', u'nba', u'nd', u'nelson', u'nephew', u'never', u'nice', u'notic', u'nowday', u'nt', u'oh', u'old', u'older', u'one', u'oobi', u'oscar', u'oz', u'parent', u'part', u'penguin', u'peopl', u'percent', u'perform', u'person', u'piano', u'playlist', u'pleas', u'poni', u'post', u'pre', u'presid', u'puppi', u'put', u'question', u'rain', u'rap', u'rapper', u'real', u'rememb', u'replac', u'rest', u'rhett', u'rise', u'rn', u'rtik', u'rule', u'rumor', u'sang', u'season', u'see', u'sesam', u'shape', u'show', u'si', u'silli', u'sinc', u'sing', u'sister', u'smoke', u'social', u'sometim', u'song', u'sorri', u'sound', u'spinney', u'st', u'star', u'still', u'stop', u'street', u'strong', u'strongjaw', u'teen', u'themat', u'thing', u'think', u'top', u'trap', u'troch', u'tyron', u'understand', u'us', u'use', u'vegan', u'vegeterian', u'veggi', u'video', u'watch', u'web', u'wonder', u'word', u'xd', u'year']\n"
     ]
    }
   ],
   "source": [
    "vocab = cv.get_feature_names()\n",
    "print vocab"
   ]
  },
  {
   "cell_type": "code",
   "execution_count": 73,
   "metadata": {
    "collapsed": false
   },
   "outputs": [
    {
     "name": "stdout",
     "output_type": "stream",
     "text": [
      "2 adult\n",
      "3 alway\n",
      "1 anim\n",
      "1 anoth\n",
      "1 anoy\n",
      "5 anthem\n",
      "1 anyon\n",
      "1 arm\n",
      "1 asham\n",
      "1 attend\n",
      "1 avant\n",
      "1 awesom\n",
      "1 awsom\n",
      "1 babi\n",
      "1 back\n",
      "1 background\n",
      "1 band\n",
      "1 batman\n",
      "1 baum\n",
      "1 believ\n",
      "1 better\n",
      "1 big\n",
      "1 bing\n",
      "1 bite\n",
      "1 bizto\n",
      "1 blue\n",
      "1 bodi\n",
      "1 boyl\n",
      "1 bring\n",
      "1 brother\n",
      "1 cancer\n",
      "1 canist\n",
      "1 cannot\n",
      "1 carrol\n",
      "1 cartoon\n",
      "2 channel\n",
      "1 child\n",
      "1 childhood\n",
      "2 chloe\n",
      "2 chocol\n",
      "1 class\n",
      "1 classmat\n",
      "1 clitori\n",
      "1 close\n",
      "1 clown\n",
      "1 coach\n",
      "3 comment\n",
      "41 cooki\n",
      "1 cookiee\n",
      "1 cookieeee\n",
      "1 cool\n",
      "1 core\n",
      "1 covfef\n",
      "1 crave\n",
      "1 cut\n",
      "2 cute\n",
      "1 day\n",
      "1 death\n",
      "1 dee\n",
      "1 desicion\n",
      "1 design\n",
      "1 diabet\n",
      "1 dog\n",
      "1 dont\n",
      "1 dream\n",
      "1 duet\n",
      "2 eat\n",
      "1 ehhhh\n",
      "5 enough\n",
      "1 eue\n",
      "1 even\n",
      "1 fact\n",
      "1 famili\n",
      "2 favorit\n",
      "1 favourit\n",
      "2 feel\n",
      "1 find\n",
      "1 fo\n",
      "1 found\n",
      "2 frank\n",
      "1 franki\n",
      "1 fulli\n",
      "1 fun\n",
      "1 funni\n",
      "1 fur\n",
      "1 gard\n",
      "1 gfu\n",
      "1 god\n",
      "1 goe\n",
      "9 good\n",
      "1 gosot\n",
      "1 got\n",
      "1 grader\n",
      "1 grew\n",
      "1 grind\n",
      "1 grog\n",
      "1 grotesqu\n",
      "1 grouch\n",
      "2 grover\n",
      "1 grown\n",
      "1 guy\n",
      "1 ha\n",
      "1 hahaha\n",
      "1 happi\n",
      "1 hard\n",
      "1 hargrov\n",
      "1 harri\n",
      "1 harvard\n",
      "1 hat\n",
      "2 head\n",
      "2 heard\n",
      "1 heavi\n",
      "2 help\n",
      "1 henson\n",
      "1 herri\n",
      "1 hi\n",
      "1 hlding\n",
      "1 hum\n",
      "1 includ\n",
      "1 inde\n",
      "1 instead\n",
      "1 intro\n",
      "1 iphon\n",
      "1 isiah\n",
      "1 iv\n",
      "1 ja\n",
      "1 jam\n",
      "1 jay\n",
      "1 jerri\n",
      "1 jessica\n",
      "1 jim\n",
      "1 kako\n",
      "1 kept\n",
      "4 kid\n",
      "3 know\n",
      "1 kooki\n",
      "2 kuki\n",
      "1 larg\n",
      "1 lectur\n",
      "1 lesson\n",
      "1 let\n",
      "1 letter\n",
      "2 life\n",
      "4 like\n",
      "1 link\n",
      "3 littl\n",
      "1 lll\n",
      "1 logo\n",
      "3 lol\n",
      "3 look\n",
      "1 loooooooooool\n",
      "9 love\n",
      "1 lsu\n",
      "1 lyric\n",
      "1 magyarok\n",
      "1 make\n",
      "2 mani\n",
      "1 marin\n",
      "1 math\n",
      "1 media\n",
      "1 memori\n",
      "1 metal\n",
      "1 middleton\n",
      "1 mom\n",
      "14 monster\n",
      "1 moster\n",
      "1 much\n",
      "2 muito\n",
      "1 muppet\n",
      "1 muscular\n",
      "2 music\n",
      "2 name\n",
      "4 nation\n",
      "1 nba\n",
      "1 nd\n",
      "1 nelson\n",
      "1 nephew\n",
      "1 never\n",
      "1 nice\n",
      "1 notic\n",
      "1 nowday\n",
      "1 nt\n",
      "1 oh\n",
      "2 old\n",
      "1 older\n",
      "2 one\n",
      "1 oobi\n",
      "3 oscar\n",
      "2 oz\n",
      "2 parent\n",
      "1 part\n",
      "1 penguin\n",
      "2 peopl\n",
      "1 percent\n",
      "1 perform\n",
      "1 person\n",
      "1 piano\n",
      "1 playlist\n",
      "1 pleas\n",
      "1 poni\n",
      "1 post\n",
      "1 pre\n",
      "1 presid\n",
      "1 puppi\n",
      "1 put\n",
      "1 question\n",
      "1 rain\n",
      "1 rap\n",
      "1 rapper\n",
      "1 real\n",
      "1 rememb\n",
      "2 replac\n",
      "1 rest\n",
      "1 rhett\n",
      "1 rise\n",
      "1 rn\n",
      "1 rtik\n",
      "1 rule\n",
      "1 rumor\n",
      "1 sang\n",
      "2 season\n",
      "1 see\n",
      "5 sesam\n",
      "1 shape\n",
      "3 show\n",
      "1 si\n",
      "1 silli\n",
      "1 sinc\n",
      "7 sing\n",
      "2 sister\n",
      "1 smoke\n",
      "1 social\n",
      "1 sometim\n",
      "16 song\n",
      "1 sorri\n",
      "2 sound\n",
      "1 spinney\n",
      "1 st\n",
      "1 star\n",
      "1 still\n",
      "1 stop\n",
      "5 street\n",
      "1 strong\n",
      "1 strongjaw\n",
      "1 teen\n",
      "1 themat\n",
      "2 thing\n",
      "2 think\n",
      "1 top\n",
      "1 trap\n",
      "1 troch\n",
      "1 tyron\n",
      "1 understand\n",
      "1 us\n",
      "2 use\n",
      "1 vegan\n",
      "1 vegeterian\n",
      "2 veggi\n",
      "1 video\n",
      "2 watch\n",
      "1 web\n",
      "1 wonder\n",
      "1 word\n",
      "1 xd\n",
      "3 year\n"
     ]
    }
   ],
   "source": [
    "import numpy as np\n",
    "\n",
    "# Sum up the counts of each vocabulary word\n",
    "dist = np.sum(X, axis=0)\n",
    "\n",
    "# For each, print the vocabulary word and the number of times it \n",
    "# appears in the training set\n",
    "for tag, count in zip(vocab, dist):\n",
    "    print count, tag"
   ]
  },
  {
   "cell_type": "code",
   "execution_count": 74,
   "metadata": {
    "collapsed": false
   },
   "outputs": [],
   "source": [
    "transcript = pd.read_csv(\"transcript.csv\")"
   ]
  },
  {
   "cell_type": "code",
   "execution_count": 75,
   "metadata": {
    "collapsed": false
   },
   "outputs": [
    {
     "data": {
      "text/html": [
       "<div>\n",
       "<table border=\"1\" class=\"dataframe\">\n",
       "  <thead>\n",
       "    <tr style=\"text-align: right;\">\n",
       "      <th></th>\n",
       "      <th>Transcript</th>\n",
       "    </tr>\n",
       "  </thead>\n",
       "  <tbody>\n",
       "    <tr>\n",
       "      <th>0</th>\n",
       "      <td>COOKIE MONSTER: Now what startswith the letter...</td>\n",
       "    </tr>\n",
       "  </tbody>\n",
       "</table>\n",
       "</div>"
      ],
      "text/plain": [
       "                                          Transcript\n",
       "0  COOKIE MONSTER: Now what startswith the letter..."
      ]
     },
     "execution_count": 75,
     "metadata": {},
     "output_type": "execute_result"
    }
   ],
   "source": [
    "transcript"
   ]
  },
  {
   "cell_type": "code",
   "execution_count": 76,
   "metadata": {
    "collapsed": true
   },
   "outputs": [],
   "source": [
    "corpus_transcript=[]\n",
    "for i in range(0, 1):\n",
    "    review = re.sub('[^a-zA-Z]', ' ', transcript['Transcript'][i])\n",
    "    review = review.lower()\n",
    "    review = review.split()\n",
    "    ps = PorterStemmer()\n",
    "    review = [ps.stem(word) for word in review if not word in set(stopwords.words('english'))]\n",
    "    review = ' '.join(review)\n",
    "    corpus_transcript.append(review)"
   ]
  },
  {
   "cell_type": "code",
   "execution_count": 77,
   "metadata": {
    "collapsed": false
   },
   "outputs": [
    {
     "data": {
      "text/plain": [
       "[u'cooki monster startswith letter c cooki start c let sthink thing thatstart c ah caresabout thing c cooki good enough c cooki good enough c cooki good enough oh cooki cooki cookiestart c oh c cooki good enough c cooki good enough c cooki good enough oh cooki cooki cookiestart c hey know round cooki one biteout look like c around donut one bite ofit also look like c butit good cooki moon sometim look likea c eat c cooki good enough yeah c cooki good enough c cooki good enough oh cooki cooki cookiestart c yeah cooki cooki cooki startswith c oh boy cooki cooki cookiestart c']"
      ]
     },
     "execution_count": 77,
     "metadata": {},
     "output_type": "execute_result"
    }
   ],
   "source": [
    "corpus_transcript"
   ]
  },
  {
   "cell_type": "code",
   "execution_count": 78,
   "metadata": {
    "collapsed": true
   },
   "outputs": [],
   "source": [
    "cv1 = CountVectorizer(max_features = 1500)\n",
    "X1 = cv1.fit_transform(corpus_transcript).toarray()\n"
   ]
  },
  {
   "cell_type": "code",
   "execution_count": 79,
   "metadata": {
    "collapsed": false
   },
   "outputs": [
    {
     "data": {
      "text/plain": [
       "(1L, 34L)"
      ]
     },
     "execution_count": 79,
     "metadata": {},
     "output_type": "execute_result"
    }
   ],
   "source": [
    "X1.shape"
   ]
  },
  {
   "cell_type": "code",
   "execution_count": 80,
   "metadata": {
    "collapsed": false
   },
   "outputs": [
    {
     "data": {
      "text/plain": [
       "array([[ 1,  1,  1,  1,  1,  1,  1,  1, 24,  4,  1,  1,  9, 10,  1,  1,  1,\n",
       "         1,  2,  1,  3,  1,  1,  1,  5,  2,  1,  1,  1,  2,  1,  1,  2,  2]], dtype=int64)"
      ]
     },
     "execution_count": 80,
     "metadata": {},
     "output_type": "execute_result"
    }
   ],
   "source": [
    "X1"
   ]
  },
  {
   "cell_type": "code",
   "execution_count": 81,
   "metadata": {
    "collapsed": false
   },
   "outputs": [
    {
     "name": "stdout",
     "output_type": "stream",
     "text": [
      "[u'ah', u'also', u'around', u'bite', u'biteout', u'boy', u'butit', u'caresabout', u'cooki', u'cookiestart', u'donut', u'eat', u'enough', u'good', u'hey', u'know', u'let', u'letter', u'like', u'likea', u'look', u'monster', u'moon', u'ofit', u'oh', u'one', u'round', u'sometim', u'start', u'startswith', u'sthink', u'thatstart', u'thing', u'yeah']\n"
     ]
    }
   ],
   "source": [
    "vocab1 = cv1.get_feature_names()\n",
    "print vocab1"
   ]
  },
  {
   "cell_type": "code",
   "execution_count": 82,
   "metadata": {
    "collapsed": false
   },
   "outputs": [
    {
     "name": "stdout",
     "output_type": "stream",
     "text": [
      "1 adult\n",
      "1 alway\n",
      "1 anim\n",
      "1 anoth\n",
      "1 anoy\n",
      "1 anthem\n",
      "1 anyon\n",
      "1 arm\n",
      "24 asham\n",
      "4 attend\n",
      "1 avant\n",
      "1 awesom\n",
      "9 awsom\n",
      "10 babi\n",
      "1 back\n",
      "1 background\n",
      "1 band\n",
      "1 batman\n",
      "2 baum\n",
      "1 believ\n",
      "3 better\n",
      "1 big\n",
      "1 bing\n",
      "1 bite\n",
      "5 bizto\n",
      "2 blue\n",
      "1 bodi\n",
      "1 boyl\n",
      "1 bring\n",
      "2 brother\n",
      "1 cancer\n",
      "1 canist\n",
      "2 cannot\n",
      "2 carrol\n"
     ]
    }
   ],
   "source": [
    "import numpy as np\n",
    "\n",
    "# Sum up the counts of each vocabulary word\n",
    "dist = np.sum(X1, axis=0)\n",
    "\n",
    "# For each, print the vocabulary word and the number of times it \n",
    "# appears in the training set\n",
    "for tag, count in zip(vocab, dist):\n",
    "    print count, tag"
   ]
  },
  {
   "cell_type": "code",
   "execution_count": 84,
   "metadata": {
    "collapsed": false
   },
   "outputs": [],
   "source": [
    "from nltk.corpus import wordnet as wn"
   ]
  },
  {
   "cell_type": "code",
   "execution_count": 86,
   "metadata": {
    "collapsed": false
   },
   "outputs": [
    {
     "name": "stdout",
     "output_type": "stream",
     "text": [
      "[Synset('cat.n.01'), Synset('guy.n.01'), Synset('cat.n.03'), Synset('kat.n.01'), Synset('cat-o'-nine-tails.n.01'), Synset('caterpillar.n.02'), Synset('big_cat.n.01'), Synset('computerized_tomography.n.01')]\n"
     ]
    }
   ],
   "source": [
    "print wn.synsets('cat','n')"
   ]
  },
  {
   "cell_type": "code",
   "execution_count": 90,
   "metadata": {
    "collapsed": false
   },
   "outputs": [
    {
     "name": "stdout",
     "output_type": "stream",
     "text": [
      "[Synset('dog.n.01'), Synset('frump.n.01'), Synset('dog.n.03'), Synset('cad.n.01'), Synset('frank.n.02'), Synset('pawl.n.01'), Synset('andiron.n.01')]\n"
     ]
    }
   ],
   "source": [
    "print wn.synsets('dog','n')"
   ]
  },
  {
   "cell_type": "code",
   "execution_count": 91,
   "metadata": {
    "collapsed": false
   },
   "outputs": [
    {
     "name": "stdout",
     "output_type": "stream",
     "text": [
      "18\n"
     ]
    }
   ],
   "source": [
    "cat = wn.synsets('cat', 'n')[0]     # Get the most common synset\n",
    "print cat.lemmas()[0].count()  "
   ]
  },
  {
   "cell_type": "code",
   "execution_count": 92,
   "metadata": {
    "collapsed": false
   },
   "outputs": [
    {
     "name": "stdout",
     "output_type": "stream",
     "text": [
      "Synset('cat.n.01')\n"
     ]
    }
   ],
   "source": [
    "print cat"
   ]
  },
  {
   "cell_type": "code",
   "execution_count": 97,
   "metadata": {
    "collapsed": false
   },
   "outputs": [
    {
     "data": {
      "text/plain": [
       "['lll',\n",
       " u'mom dog hat song name cooki',\n",
       " u'feel like guy attend harvard music',\n",
       " u'kept sing math class classmat understand',\n",
       " 'real rap',\n",
       " 'head coach lsu',\n",
       " u'pleas rise nation anthem',\n",
       " u'love cooki moster song c cooki',\n",
       " u'rhett link anyon',\n",
       " 'life',\n",
       " u'sound like heavi metal',\n",
       " 'jam st nd grader',\n",
       " 'p',\n",
       " u'penguin know think anoth word',\n",
       " u'chocol rain',\n",
       " u'bite cooki cooki cooki cooki cooki cooki cooki cooki cooki cooki shape like c',\n",
       " 'lol',\n",
       " u'eue gosot muito dee cookiee muito baum',\n",
       " '',\n",
       " u'babi nation anthem',\n",
       " 'gfu',\n",
       " 'u',\n",
       " u'p poni good enough',\n",
       " u'c clown presid good',\n",
       " u'notic oscar sing',\n",
       " '',\n",
       " 'c fo',\n",
       " u'smoke canist',\n",
       " u'cooki cookieeee cooki cooki',\n",
       " u'includ oscar grouch monster',\n",
       " u'cannot stop sing awesom song dont even hlding cooki',\n",
       " u'song awsom',\n",
       " 'feel old',\n",
       " u'duet franki boyl better',\n",
       " u'v veggi good enough',\n",
       " u'nation anthem comment think nation anthem',\n",
       " u'love song cute funni',\n",
       " '',\n",
       " 'iv never hard',\n",
       " u'favorit post grind vegan diabet fur death avant gard pre vegeterian blue core band',\n",
       " u'sesam street cooki monster sing c cooki season season',\n",
       " u'favourit song rn',\n",
       " u'c covfef good enough',\n",
       " u'fun fact part cooki monster goe c rest cut look close',\n",
       " 'still love',\n",
       " u'strong lyric',\n",
       " u'love comment thing littl kid parent',\n",
       " u'older kid teen adult question life desicion',\n",
       " u'heard year lol',\n",
       " u'letter chocol c',\n",
       " u'love cooki',\n",
       " 'childhood song',\n",
       " u'year cooki monster song',\n",
       " u'help fulli grown adult trap sesam street bing',\n",
       " u'c c nt mani themat',\n",
       " u'inde good song know cooki monster song sister believ one replac cooki monster sinc heard rumor replac veggi monster',\n",
       " '',\n",
       " u'love song much nephew use sing sing song littl us marin hahaha',\n",
       " 'loooooooooool',\n",
       " u'person find puppi middleton grotesqu look muscular arm bodi make head look larg let eat cooki happi',\n",
       " u'love cooki',\n",
       " u'si cooki',\n",
       " u'hum sorri k kooki',\n",
       " u'like cooki monster',\n",
       " u'piano lesson one song',\n",
       " 'ja rule',\n",
       " u'bring back mani memori',\n",
       " u'star cooki monster sesam street kako oobi',\n",
       " '',\n",
       " u'kid cartoon channel show video famili tyron isiah hargrov brother jessica jay troch big sister show put show',\n",
       " 'nba k anthem',\n",
       " u'top anim intro',\n",
       " 'use channel logo comment',\n",
       " u'ehhhh got crave cooki watch',\n",
       " u'nowday peopl instead cooki iphon social media sometim thing peopl know',\n",
       " u'littl parent sang c chloe good enough',\n",
       " 'name chloe',\n",
       " u'alway wonder c',\n",
       " u'ha silli cooki monster',\n",
       " 'good song',\n",
       " u'web design lectur eat cooki',\n",
       " u'see grover harri background',\n",
       " 'c cancer',\n",
       " u'child alway dream cooki cooki monster',\n",
       " u'watch',\n",
       " 'love',\n",
       " u'oh god favorit song kid',\n",
       " 'lol',\n",
       " 'cool',\n",
       " '',\n",
       " 'nice',\n",
       " u'anoy',\n",
       " u'frank oz cooki monster',\n",
       " u'sesam street alway help rememb jim henson',\n",
       " u'c cooki good enough',\n",
       " u'batman sing c cooki',\n",
       " 'good song love',\n",
       " u'c clitori found',\n",
       " 'grog strongjaw',\n",
       " '',\n",
       " u'cooki kuki c cooki kuki magyarok bizto rtik xd',\n",
       " 'cute',\n",
       " u'year old music playlist',\n",
       " u'asham grew sesam street',\n",
       " 'hi',\n",
       " u'percent rapper day sound',\n",
       " u'muppet perform',\n",
       " u'carrol spinney oscar',\n",
       " u'frank oz cooki monster grover',\n",
       " u'jerri nelson herri monster']"
      ]
     },
     "execution_count": 97,
     "metadata": {},
     "output_type": "execute_result"
    }
   ],
   "source": [
    "corpus"
   ]
  },
  {
   "cell_type": "code",
   "execution_count": 94,
   "metadata": {
    "collapsed": false
   },
   "outputs": [
    {
     "data": {
      "text/plain": [
       "[u'cooki monster startswith letter c cooki start c let sthink thing thatstart c ah caresabout thing c cooki good enough c cooki good enough c cooki good enough oh cooki cooki cookiestart c oh c cooki good enough c cooki good enough c cooki good enough oh cooki cooki cookiestart c hey know round cooki one biteout look like c around donut one bite ofit also look like c butit good cooki moon sometim look likea c eat c cooki good enough yeah c cooki good enough c cooki good enough oh cooki cooki cookiestart c yeah cooki cooki cooki startswith c oh boy cooki cooki cookiestart c']"
      ]
     },
     "execution_count": 94,
     "metadata": {},
     "output_type": "execute_result"
    }
   ],
   "source": [
    "corpus_transcript"
   ]
  },
  {
   "cell_type": "code",
   "execution_count": 98,
   "metadata": {
    "collapsed": true
   },
   "outputs": [],
   "source": [
    "from nltk import word_tokenize, pos_tag"
   ]
  },
  {
   "cell_type": "code",
   "execution_count": 100,
   "metadata": {
    "collapsed": false
   },
   "outputs": [
    {
     "data": {
      "text/plain": [
       "[(u'cooki', 'NN'),\n",
       " (u'monster', 'NN'),\n",
       " (u'startswith', 'VBP'),\n",
       " (u'letter', 'NN'),\n",
       " (u'c', 'NN'),\n",
       " (u'cooki', 'JJ'),\n",
       " (u'start', 'VBP'),\n",
       " (u'c', 'JJ'),\n",
       " (u'let', 'NN'),\n",
       " (u'sthink', 'VB'),\n",
       " (u'thing', 'NN'),\n",
       " (u'thatstart', 'NN'),\n",
       " (u'c', 'VBP'),\n",
       " (u'ah', 'NN'),\n",
       " (u'caresabout', 'NN'),\n",
       " (u'thing', 'NN'),\n",
       " (u'c', 'NN'),\n",
       " (u'cooki', 'NN'),\n",
       " (u'good', 'JJ'),\n",
       " (u'enough', 'RB'),\n",
       " (u'c', 'JJ'),\n",
       " (u'cooki', 'NN'),\n",
       " (u'good', 'JJ'),\n",
       " (u'enough', 'RB'),\n",
       " (u'c', 'JJ'),\n",
       " (u'cooki', 'NN'),\n",
       " (u'good', 'JJ'),\n",
       " (u'enough', 'RB'),\n",
       " (u'oh', 'JJ'),\n",
       " (u'cooki', 'NN'),\n",
       " (u'cooki', 'NN'),\n",
       " (u'cookiestart', 'NN'),\n",
       " (u'c', 'VBZ'),\n",
       " (u'oh', 'JJ'),\n",
       " (u'c', 'NNS'),\n",
       " (u'cooki', 'VBP'),\n",
       " (u'good', 'JJ'),\n",
       " (u'enough', 'RB'),\n",
       " (u'c', 'JJ'),\n",
       " (u'cooki', 'NN'),\n",
       " (u'good', 'JJ'),\n",
       " (u'enough', 'RB'),\n",
       " (u'c', 'JJ'),\n",
       " (u'cooki', 'NN'),\n",
       " (u'good', 'JJ'),\n",
       " (u'enough', 'RB'),\n",
       " (u'oh', 'JJ'),\n",
       " (u'cooki', 'NN'),\n",
       " (u'cooki', 'NN'),\n",
       " (u'cookiestart', 'NN'),\n",
       " (u'c', 'VBZ'),\n",
       " (u'hey', 'NNS'),\n",
       " (u'know', 'VBP'),\n",
       " (u'round', 'NN'),\n",
       " (u'cooki', 'VBP'),\n",
       " (u'one', 'CD'),\n",
       " (u'biteout', 'NN'),\n",
       " (u'look', 'NN'),\n",
       " (u'like', 'IN'),\n",
       " (u'c', 'NN'),\n",
       " (u'around', 'IN'),\n",
       " (u'donut', 'JJ'),\n",
       " (u'one', 'CD'),\n",
       " (u'bite', 'NN'),\n",
       " (u'ofit', 'NN'),\n",
       " (u'also', 'RB'),\n",
       " (u'look', 'VBP'),\n",
       " (u'like', 'IN'),\n",
       " (u'c', 'NNS'),\n",
       " (u'butit', 'RB'),\n",
       " (u'good', 'JJ'),\n",
       " (u'cooki', 'NN'),\n",
       " (u'moon', 'NN'),\n",
       " (u'sometim', 'JJ'),\n",
       " (u'look', 'NN'),\n",
       " (u'likea', 'JJ'),\n",
       " (u'c', 'NN'),\n",
       " (u'eat', 'NN'),\n",
       " (u'c', 'JJ'),\n",
       " (u'cooki', 'NN'),\n",
       " (u'good', 'JJ'),\n",
       " (u'enough', 'RB'),\n",
       " (u'yeah', 'VBP'),\n",
       " (u'c', 'NNS'),\n",
       " (u'cooki', 'VBP'),\n",
       " (u'good', 'JJ'),\n",
       " (u'enough', 'RB'),\n",
       " (u'c', 'JJ'),\n",
       " (u'cooki', 'NN'),\n",
       " (u'good', 'JJ'),\n",
       " (u'enough', 'RB'),\n",
       " (u'oh', 'JJ'),\n",
       " (u'cooki', 'NN'),\n",
       " (u'cooki', 'NN'),\n",
       " (u'cookiestart', 'NN'),\n",
       " (u'c', 'VBZ'),\n",
       " (u'yeah', 'UH'),\n",
       " (u'cooki', 'JJ'),\n",
       " (u'cooki', 'NN'),\n",
       " (u'cooki', 'NN'),\n",
       " (u'startswith', 'NN'),\n",
       " (u'c', 'NN'),\n",
       " (u'oh', 'UH'),\n",
       " (u'boy', 'NN'),\n",
       " (u'cooki', 'NN'),\n",
       " (u'cooki', 'JJ'),\n",
       " (u'cookiestart', 'NN'),\n",
       " (u'c', 'NN')]"
      ]
     },
     "execution_count": 100,
     "metadata": {},
     "output_type": "execute_result"
    }
   ],
   "source": [
    "pos_tag(word_tokenize(corpus_transcript[0]))"
   ]
  },
  {
   "cell_type": "code",
   "execution_count": 106,
   "metadata": {
    "collapsed": false
   },
   "outputs": [
    {
     "data": {
      "text/plain": [
       "[Synset('good.n.01'),\n",
       " Synset('good.n.02'),\n",
       " Synset('good.n.03'),\n",
       " Synset('commodity.n.01')]"
      ]
     },
     "execution_count": 106,
     "metadata": {},
     "output_type": "execute_result"
    }
   ],
   "source": [
    "wn.synsets('good', 'n')"
   ]
  },
  {
   "cell_type": "code",
   "execution_count": 164,
   "metadata": {
    "collapsed": true
   },
   "outputs": [],
   "source": [
    "from __future__ import division\n",
    "def penn_to_wn(tag):\n",
    "    \"\"\" Convert between a Penn Treebank tag to a simplified Wordnet tag \"\"\"\n",
    "    if tag.startswith('N'):\n",
    "        return 'n'\n",
    " \n",
    "    if tag.startswith('V'):\n",
    "        return 'v'\n",
    " \n",
    "    if tag.startswith('J'):\n",
    "        return 'a'\n",
    " \n",
    "    if tag.startswith('R'):\n",
    "        return 'r'\n",
    " \n",
    "    return None\n",
    " \n",
    "def tagged_to_synset(word, tag):\n",
    "    wn_tag = penn_to_wn(tag)\n",
    "    if wn_tag is None:\n",
    "        return None\n",
    " \n",
    "    try:\n",
    "        return wn.synsets(word, wn_tag)[0]\n",
    "    except:\n",
    "        return None\n",
    " \n",
    "def sentence_similarity(sentence1, sentence2):\n",
    "    \"\"\" compute the sentence similarity using Wordnet \"\"\"\n",
    "    # Tokenize and tag\n",
    "    sentence1 = pos_tag(word_tokenize(sentence1))\n",
    "    sentence2 = pos_tag(word_tokenize(sentence2))\n",
    " \n",
    "    # Get the synsets for the tagged words\n",
    "    synsets1 = [tagged_to_synset(*tagged_word) for tagged_word in sentence1]\n",
    "    synsets2 = [tagged_to_synset(*tagged_word) for tagged_word in sentence2]\n",
    " \n",
    "    # Filter out the Nones\n",
    "    synsets1 = [ss for ss in synsets1 if ss]\n",
    "    synsets2 = [ss for ss in synsets2 if ss]\n",
    " \n",
    "    score, count = 0.0, 0\n",
    " \n",
    "    # For each word in the first sentence\n",
    "    for synset in synsets1:\n",
    "        # Get the similarity value of the most similar word in the other sentence\n",
    "        lst = list([synset.path_similarity(ss) for ss in synsets2])\n",
    "        if lst:\n",
    "            best_score = max([synset.path_similarity(ss) for ss in synsets2])\n",
    "            if best_score is not None:\n",
    "                score += best_score\n",
    "                count += 1\n",
    "        \n",
    "        else:\n",
    "            break\n",
    "            \n",
    "        \n",
    " \n",
    "    # Average the values\n",
    "    try:\n",
    "        score /= count\n",
    "    except ZeroDivisionError:\n",
    "        score = 0\n",
    "    return score"
   ]
  },
  {
   "cell_type": "code",
   "execution_count": 138,
   "metadata": {
    "collapsed": false
   },
   "outputs": [],
   "source": [
    "def symmetric_sentence_similarity(sentence1, sentence2):\n",
    "    return (sentence_similarity(sentence1, sentence2) + sentence_similarity(sentence2, sentence1)) / 2"
   ]
  },
  {
   "cell_type": "code",
   "execution_count": 113,
   "metadata": {
    "collapsed": true
   },
   "outputs": [],
   "source": [
    "sentences = [\n",
    "    \"Dogs are awesome.\",\n",
    "    \"Some gorgeous creatures are felines.\",\n",
    "    \"Dolphins are swimming mammals.\",\n",
    "    \"Cats are beautiful animals.\",\n",
    "]\n",
    " \n",
    "focus_sentence = \"Cats are beautiful animals.\""
   ]
  },
  {
   "cell_type": "code",
   "execution_count": 114,
   "metadata": {
    "collapsed": false
   },
   "outputs": [
    {
     "name": "stdout",
     "output_type": "stream",
     "text": [
      "SymmetricSimilarity(\"Cats are beautiful animals.\", \"Dogs are awesome.\") = 0.588888888889\n",
      "SymmetricSimilarity(\"Dogs are awesome.\", \"Cats are beautiful animals.\") = 0.588888888889\n",
      "\n",
      "SymmetricSimilarity(\"Cats are beautiful animals.\", \"Some gorgeous creatures are felines.\") = 0.833333333333\n",
      "SymmetricSimilarity(\"Some gorgeous creatures are felines.\", \"Cats are beautiful animals.\") = 0.833333333333\n",
      "\n",
      "SymmetricSimilarity(\"Cats are beautiful animals.\", \"Dolphins are swimming mammals.\") = 0.441666666667\n",
      "SymmetricSimilarity(\"Dolphins are swimming mammals.\", \"Cats are beautiful animals.\") = 0.441666666667\n",
      "\n",
      "SymmetricSimilarity(\"Cats are beautiful animals.\", \"Cats are beautiful animals.\") = 1.0\n",
      "SymmetricSimilarity(\"Cats are beautiful animals.\", \"Cats are beautiful animals.\") = 1.0\n",
      "\n"
     ]
    }
   ],
   "source": [
    "for sentence in sentences:\n",
    "    print \"SymmetricSimilarity(\\\"%s\\\", \\\"%s\\\") = %s\" % (\n",
    "        focus_sentence, sentence, symmetric_sentence_similarity(focus_sentence, sentence))\n",
    "    print \"SymmetricSimilarity(\\\"%s\\\", \\\"%s\\\") = %s\" % (\n",
    "        sentence, focus_sentence, symmetric_sentence_similarity(sentence, focus_sentence))\n",
    "    print "
   ]
  },
  {
   "cell_type": "code",
   "execution_count": null,
   "metadata": {
    "collapsed": false
   },
   "outputs": [],
   "source": []
  },
  {
   "cell_type": "code",
   "execution_count": 119,
   "metadata": {
    "collapsed": false
   },
   "outputs": [
    {
     "name": "stdout",
     "output_type": "stream",
     "text": [
      "lll\n",
      "mom dog hat song name cooki\n",
      "feel like guy attend harvard music\n",
      "kept sing math class classmat understand\n",
      "real rap\n",
      "head coach lsu\n",
      "pleas rise nation anthem\n",
      "love cooki moster song c cooki\n",
      "rhett link anyon\n",
      "life\n",
      "sound like heavi metal\n",
      "jam st nd grader\n",
      "p\n",
      "penguin know think anoth word\n",
      "chocol rain\n",
      "bite cooki cooki cooki cooki cooki cooki cooki cooki cooki cooki shape like c\n",
      "lol\n",
      "eue gosot muito dee cookiee muito baum\n",
      "\n",
      "babi nation anthem\n",
      "gfu\n",
      "u\n",
      "p poni good enough\n",
      "c clown presid good\n",
      "notic oscar sing\n",
      "\n",
      "c fo\n",
      "smoke canist\n",
      "cooki cookieeee cooki cooki\n",
      "includ oscar grouch monster\n",
      "cannot stop sing awesom song dont even hlding cooki\n",
      "song awsom\n",
      "feel old\n",
      "duet franki boyl better\n",
      "v veggi good enough\n",
      "nation anthem comment think nation anthem\n",
      "love song cute funni\n",
      "\n",
      "iv never hard\n",
      "favorit post grind vegan diabet fur death avant gard pre vegeterian blue core band\n",
      "sesam street cooki monster sing c cooki season season\n",
      "favourit song rn\n",
      "c covfef good enough\n",
      "fun fact part cooki monster goe c rest cut look close\n",
      "still love\n",
      "strong lyric\n",
      "love comment thing littl kid parent\n",
      "older kid teen adult question life desicion\n",
      "heard year lol\n",
      "letter chocol c\n",
      "love cooki\n",
      "childhood song\n",
      "year cooki monster song\n",
      "help fulli grown adult trap sesam street bing\n",
      "c c nt mani themat\n",
      "inde good song know cooki monster song sister believ one replac cooki monster sinc heard rumor replac veggi monster\n",
      "\n",
      "love song much nephew use sing sing song littl us marin hahaha\n",
      "loooooooooool\n",
      "person find puppi middleton grotesqu look muscular arm bodi make head look larg let eat cooki happi\n",
      "love cooki\n",
      "si cooki\n",
      "hum sorri k kooki\n",
      "like cooki monster\n",
      "piano lesson one song\n",
      "ja rule\n",
      "bring back mani memori\n",
      "star cooki monster sesam street kako oobi\n",
      "\n",
      "kid cartoon channel show video famili tyron isiah hargrov brother jessica jay troch big sister show put show\n",
      "nba k anthem\n",
      "top anim intro\n",
      "use channel logo comment\n",
      "ehhhh got crave cooki watch\n",
      "nowday peopl instead cooki iphon social media sometim thing peopl know\n",
      "littl parent sang c chloe good enough\n",
      "name chloe\n",
      "alway wonder c\n",
      "ha silli cooki monster\n",
      "good song\n",
      "web design lectur eat cooki\n",
      "see grover harri background\n",
      "c cancer\n",
      "child alway dream cooki cooki monster\n",
      "watch\n",
      "love\n",
      "oh god favorit song kid\n",
      "lol\n",
      "cool\n",
      "\n",
      "nice\n",
      "anoy\n",
      "frank oz cooki monster\n",
      "sesam street alway help rememb jim henson\n",
      "c cooki good enough\n",
      "batman sing c cooki\n",
      "good song love\n",
      "c clitori found\n",
      "grog strongjaw\n",
      "\n",
      "cooki kuki c cooki kuki magyarok bizto rtik xd\n",
      "cute\n",
      "year old music playlist\n",
      "asham grew sesam street\n",
      "hi\n",
      "percent rapper day sound\n",
      "muppet perform\n",
      "carrol spinney oscar\n",
      "frank oz cooki monster grover\n",
      "jerri nelson herri monster\n"
     ]
    }
   ],
   "source": [
    "for sentence in corpus:\n",
    "    print sentence"
   ]
  },
  {
   "cell_type": "code",
   "execution_count": 120,
   "metadata": {
    "collapsed": false
   },
   "outputs": [
    {
     "data": {
      "text/plain": [
       "u'cooki monster startswith letter c cooki start c let sthink thing thatstart c ah caresabout thing c cooki good enough c cooki good enough c cooki good enough oh cooki cooki cookiestart c oh c cooki good enough c cooki good enough c cooki good enough oh cooki cooki cookiestart c hey know round cooki one biteout look like c around donut one bite ofit also look like c butit good cooki moon sometim look likea c eat c cooki good enough yeah c cooki good enough c cooki good enough oh cooki cooki cookiestart c yeah cooki cooki cooki startswith c oh boy cooki cooki cookiestart c'"
      ]
     },
     "execution_count": 120,
     "metadata": {},
     "output_type": "execute_result"
    }
   ],
   "source": [
    "corpus_transcript[0]"
   ]
  },
  {
   "cell_type": "code",
   "execution_count": 166,
   "metadata": {
    "collapsed": false
   },
   "outputs": [
    {
     "name": "stdout",
     "output_type": "stream",
     "text": [
      "SymmetricSimilarity(\"Trancript\", \"lll\") = 0.0\n",
      "\n",
      "SymmetricSimilarity(\"Trancript\", \"mom dog hat song name cooki\") = 0.107076510446\n",
      "\n",
      "SymmetricSimilarity(\"Trancript\", \"feel like guy attend harvard music\") = 0.147401270227\n",
      "\n",
      "SymmetricSimilarity(\"Trancript\", \"kept sing math class classmat understand\") = 0.162989848316\n",
      "\n",
      "SymmetricSimilarity(\"Trancript\", \"real rap\") = 0.0946313224286\n",
      "\n",
      "SymmetricSimilarity(\"Trancript\", \"head coach lsu\") = 0.108359372937\n",
      "\n",
      "SymmetricSimilarity(\"Trancript\", \"pleas rise nation anthem\") = 0.117752356339\n",
      "\n",
      "SymmetricSimilarity(\"Trancript\", \"love cooki moster song c cooki\") = 0.476501276501\n",
      "\n",
      "SymmetricSimilarity(\"Trancript\", \"rhett link anyon\") = 0.103191313517\n",
      "\n",
      "SymmetricSimilarity(\"Trancript\", \"life\") = 0.153208566796\n",
      "\n",
      "SymmetricSimilarity(\"Trancript\", \"sound like heavi metal\") = 0.114855856704\n",
      "\n",
      "SymmetricSimilarity(\"Trancript\", \"jam st nd grader\") = 0.0917342621147\n",
      "\n",
      "SymmetricSimilarity(\"Trancript\", \"p\") = 0.101260514847\n",
      "\n",
      "SymmetricSimilarity(\"Trancript\", \"penguin know think anoth word\") = 0.250021023662\n",
      "\n",
      "SymmetricSimilarity(\"Trancript\", \"chocol rain\") = 0.0704335803441\n",
      "\n",
      "SymmetricSimilarity(\"Trancript\", \"bite cooki cooki cooki cooki cooki cooki cooki cooki cooki cooki shape like c\") = 0.605297781928\n",
      "\n",
      "SymmetricSimilarity(\"Trancript\", \"lol\") = 0.0\n",
      "\n",
      "SymmetricSimilarity(\"Trancript\", \"eue gosot muito dee cookiee muito baum\") = 0.124301401923\n",
      "\n",
      "SymmetricSimilarity(\"Trancript\", \"\") = 0.0\n",
      "\n",
      "SymmetricSimilarity(\"Trancript\", \"babi nation anthem\") = 0.0914361604579\n",
      "\n",
      "SymmetricSimilarity(\"Trancript\", \"gfu\") = 0.0\n",
      "\n",
      "SymmetricSimilarity(\"Trancript\", \"u\") = 0.0668983953671\n",
      "\n",
      "SymmetricSimilarity(\"Trancript\", \"p poni good enough\") = 0.610511710512\n",
      "\n",
      "SymmetricSimilarity(\"Trancript\", \"c clown presid good\") = 0.815793171475\n",
      "\n",
      "SymmetricSimilarity(\"Trancript\", \"notic oscar sing\") = 0.0937718079022\n",
      "\n",
      "SymmetricSimilarity(\"Trancript\", \"\") = 0.0\n",
      "\n",
      "SymmetricSimilarity(\"Trancript\", \"c fo\") = 0.720485854725\n",
      "\n",
      "SymmetricSimilarity(\"Trancript\", \"smoke canist\") = 0.0758724948269\n",
      "\n",
      "SymmetricSimilarity(\"Trancript\", \"cooki cookieeee cooki cooki\") = 0.0\n",
      "\n",
      "SymmetricSimilarity(\"Trancript\", \"includ oscar grouch monster\") = 0.338838697534\n",
      "\n",
      "SymmetricSimilarity(\"Trancript\", \"cannot stop sing awesom song dont even hlding cooki\") = 0.151320117081\n",
      "\n",
      "SymmetricSimilarity(\"Trancript\", \"song awsom\") = 0.0937718079022\n",
      "\n",
      "SymmetricSimilarity(\"Trancript\", \"feel old\") = 0.0986874112673\n",
      "\n",
      "SymmetricSimilarity(\"Trancript\", \"duet franki boyl better\") = 0.108295918702\n",
      "\n",
      "SymmetricSimilarity(\"Trancript\", \"v veggi good enough\") = 0.620572185751\n",
      "\n",
      "SymmetricSimilarity(\"Trancript\", \"nation anthem comment think nation anthem\") = 0.115829653438\n",
      "\n",
      "SymmetricSimilarity(\"Trancript\", \"love song cute funni\") = 0.114742383221\n",
      "\n",
      "SymmetricSimilarity(\"Trancript\", \"\") = 0.0\n",
      "\n",
      "SymmetricSimilarity(\"Trancript\", \"iv never hard\") = 0.117345758107\n",
      "\n",
      "SymmetricSimilarity(\"Trancript\", \"favorit post grind vegan diabet fur death avant gard pre vegeterian blue core band\") = 0.122832079354\n",
      "\n",
      "SymmetricSimilarity(\"Trancript\", \"sesam street cooki monster sing c cooki season season\") = 0.373138214443\n",
      "\n",
      "SymmetricSimilarity(\"Trancript\", \"favourit song rn\") = 0.0988450559103\n",
      "\n",
      "SymmetricSimilarity(\"Trancript\", \"c covfef good enough\") = 0.855266063302\n",
      "\n",
      "SymmetricSimilarity(\"Trancript\", \"fun fact part cooki monster goe c rest cut look close\") = 0.288756688446\n",
      "\n",
      "SymmetricSimilarity(\"Trancript\", \"still love\") = 0.333333333333\n",
      "\n",
      "SymmetricSimilarity(\"Trancript\", \"strong lyric\") = 0.227342042016\n",
      "\n",
      "SymmetricSimilarity(\"Trancript\", \"love comment thing littl kid parent\") = 0.282258454106\n",
      "\n",
      "SymmetricSimilarity(\"Trancript\", \"older kid teen adult question life desicion\") = 0.163482652613\n",
      "\n",
      "SymmetricSimilarity(\"Trancript\", \"heard year lol\") = 0.120730839209\n",
      "\n",
      "SymmetricSimilarity(\"Trancript\", \"letter chocol c\") = 0.742638189106\n",
      "\n",
      "SymmetricSimilarity(\"Trancript\", \"love cooki\") = 0.131046731047\n",
      "\n",
      "SymmetricSimilarity(\"Trancript\", \"childhood song\") = 0.0970326774675\n",
      "\n",
      "SymmetricSimilarity(\"Trancript\", \"year cooki monster song\") = 0.273565343674\n",
      "\n",
      "SymmetricSimilarity(\"Trancript\", \"help fulli grown adult trap sesam street bing\") = 0.144244071146\n",
      "\n",
      "SymmetricSimilarity(\"Trancript\", \"c c nt mani themat\") = 0.720485854725\n",
      "\n",
      "SymmetricSimilarity(\"Trancript\", \"inde good song know cooki monster song sister believ one replac cooki monster sinc heard rumor replac veggi monster\") = 0.500937471619\n",
      "\n",
      "SymmetricSimilarity(\"Trancript\", \"\") = 0.0\n",
      "\n",
      "SymmetricSimilarity(\"Trancript\", \"love song much nephew use sing sing song littl us marin hahaha\") = 0.143666007905\n",
      "\n",
      "SymmetricSimilarity(\"Trancript\", \"loooooooooool\") = 0.0\n",
      "\n",
      "SymmetricSimilarity(\"Trancript\", \"person find puppi middleton grotesqu look muscular arm bodi make head look larg let eat cooki happi\") = 0.371758664041\n",
      "\n",
      "SymmetricSimilarity(\"Trancript\", \"love cooki\") = 0.131046731047\n",
      "\n",
      "SymmetricSimilarity(\"Trancript\", \"si cooki\") = 0.101260514847\n",
      "\n",
      "SymmetricSimilarity(\"Trancript\", \"hum sorri k kooki\") = 0.196835049009\n",
      "\n",
      "SymmetricSimilarity(\"Trancript\", \"like cooki monster\") = 0.557185434983\n",
      "\n",
      "SymmetricSimilarity(\"Trancript\", \"piano lesson one song\") = 0.101713413398\n",
      "\n",
      "SymmetricSimilarity(\"Trancript\", \"ja rule\") = 0.0905049660484\n",
      "\n",
      "SymmetricSimilarity(\"Trancript\", \"bring back mani memori\") = 0.266666666667\n",
      "\n",
      "SymmetricSimilarity(\"Trancript\", \"star cooki monster sesam street kako oobi\") = 0.292292911219\n",
      "\n",
      "SymmetricSimilarity(\"Trancript\", \"\") = 0.0\n",
      "\n",
      "SymmetricSimilarity(\"Trancript\", \"kid cartoon channel show video famili tyron isiah hargrov brother jessica jay troch big sister show put show\") = 0.134771157696\n",
      "\n",
      "SymmetricSimilarity(\"Trancript\", \"nba k anthem\") = 0.161410147823\n",
      "\n",
      "SymmetricSimilarity(\"Trancript\", \"top anim intro\") = 0.100814583967\n",
      "\n",
      "SymmetricSimilarity(\"Trancript\", \"use channel logo comment\") = 0.0973557843123\n",
      "\n",
      "SymmetricSimilarity(\"Trancript\", \"ehhhh got crave cooki watch\") = 0.160257412268\n",
      "\n",
      "SymmetricSimilarity(\"Trancript\", \"nowday peopl instead cooki iphon social media sometim thing peopl know\") = 0.48814621369\n",
      "\n",
      "SymmetricSimilarity(\"Trancript\", \"littl parent sang c chloe good enough\") = 0.614361487799\n",
      "\n",
      "SymmetricSimilarity(\"Trancript\", \"name chloe\") = 0.103191313517\n",
      "\n",
      "SymmetricSimilarity(\"Trancript\", \"alway wonder c\") = 0.720485854725\n",
      "\n",
      "SymmetricSimilarity(\"Trancript\", \"ha silli cooki monster\") = 0.336114248071\n",
      "\n",
      "SymmetricSimilarity(\"Trancript\", \"good song\") = 0.467123785306\n",
      "\n",
      "SymmetricSimilarity(\"Trancript\", \"web design lectur eat cooki\") = 0.111369126043\n",
      "\n",
      "SymmetricSimilarity(\"Trancript\", \"see grover harri background\") = 0.167451932126\n",
      "\n",
      "SymmetricSimilarity(\"Trancript\", \"c cancer\") = 0.499320395788\n",
      "\n",
      "SymmetricSimilarity(\"Trancript\", \"child alway dream cooki cooki monster\") = 0.365116676801\n",
      "\n",
      "SymmetricSimilarity(\"Trancript\", \"watch\") = 0.0879794486858\n",
      "\n",
      "SymmetricSimilarity(\"Trancript\", \"love\") = 0.131046731047\n",
      "\n",
      "SymmetricSimilarity(\"Trancript\", \"oh god favorit song kid\") = 0.114624505929\n",
      "\n",
      "SymmetricSimilarity(\"Trancript\", \"lol\") = 0.0\n",
      "\n",
      "SymmetricSimilarity(\"Trancript\", \"cool\") = 0.111539788714\n",
      "\n",
      "SymmetricSimilarity(\"Trancript\", \"\") = 0.0\n",
      "\n",
      "SymmetricSimilarity(\"Trancript\", \"nice\") = 0.166666666667\n",
      "\n",
      "SymmetricSimilarity(\"Trancript\", \"anoy\") = 0.0\n",
      "\n",
      "SymmetricSimilarity(\"Trancript\", \"frank oz cooki monster\") = 0.572995711663\n",
      "\n",
      "SymmetricSimilarity(\"Trancript\", \"sesam street alway help rememb jim henson\") = 0.133918728212\n",
      "\n",
      "SymmetricSimilarity(\"Trancript\", \"c cooki good enough\") = 0.855266063302\n",
      "\n",
      "SymmetricSimilarity(\"Trancript\", \"batman sing c cooki\") = 0.435535026568\n",
      "\n",
      "SymmetricSimilarity(\"Trancript\", \"good song love\") = 0.406234590325\n",
      "\n",
      "SymmetricSimilarity(\"Trancript\", \"c clitori found\") = 0.542768463421\n",
      "\n",
      "SymmetricSimilarity(\"Trancript\", \"grog strongjaw\") = 0.0773125709187\n",
      "\n",
      "SymmetricSimilarity(\"Trancript\", \"\") = 0.0\n",
      "\n",
      "SymmetricSimilarity(\"Trancript\", \"cooki kuki c cooki kuki magyarok bizto rtik xd\") = 0.41506965257\n",
      "\n",
      "SymmetricSimilarity(\"Trancript\", \"cute\") = 0.0\n",
      "\n",
      "SymmetricSimilarity(\"Trancript\", \"year old music playlist\") = 0.122444906141\n",
      "\n",
      "SymmetricSimilarity(\"Trancript\", \"asham grew sesam street\") = 0.137577275553\n",
      "\n",
      "SymmetricSimilarity(\"Trancript\", \"hi\") = 0.0937718079022\n",
      "\n",
      "SymmetricSimilarity(\"Trancript\", \"percent rapper day sound\") = 0.136963278268\n",
      "\n",
      "SymmetricSimilarity(\"Trancript\", \"muppet perform\") = 0.0\n",
      "\n",
      "SymmetricSimilarity(\"Trancript\", \"carrol spinney oscar\") = 0.0941341267428\n",
      "\n",
      "SymmetricSimilarity(\"Trancript\", \"frank oz cooki monster grover\") = 0.572995711663\n",
      "\n",
      "SymmetricSimilarity(\"Trancript\", \"jerri nelson herri monster\") = 0.328277567488\n",
      "\n"
     ]
    }
   ],
   "source": [
    "for sentence in corpus:\n",
    "    print \"SymmetricSimilarity(\\\"%s\\\", \\\"%s\\\") = %s\" % (\n",
    "        \"Trancript\", sentence, symmetric_sentence_similarity(corpus_transcript[0], sentence))\n",
    "    print  "
   ]
  },
  {
   "cell_type": "code",
   "execution_count": 191,
   "metadata": {
    "collapsed": false
   },
   "outputs": [
    {
     "name": "stdout",
     "output_type": "stream",
     "text": [
      "[0.0, 0.10707651044607566, 0.1474012702273572, 0.16298984831593527, 0.09463132242863703, 0.10835937293737805, 0.11775235633931287, 0.4765012765012765, 0.10319131351740046, 0.1532085667955233, 0.11485585670368277, 0.09173426211469689, 0.10126051484747135, 0.25002102366232803, 0.07043358034406628, 0.6052977819282168, 0.0, 0.12430140192288529, 0.0, 0.09143616045789958, 0.0, 0.06689839536706545, 0.6105117105117105, 0.8157931714749898, 0.09377180790224268, 0.0, 0.7204858547249852, 0.07587249482693015, 0.0, 0.33883869753434975, 0.15132011708098667, 0.09377180790224268, 0.09868741126733455, 0.10829591870192895, 0.6205721857507571, 0.11582965343834908, 0.11474238322064409, 0.0, 0.11734575810662767, 0.12283207935381849, 0.37313821444256223, 0.09884505591027329, 0.8552660633017776, 0.2887566884461294, 0.3333333333333333, 0.2273420420159551, 0.28225845410628014, 0.1634826526130874, 0.12073083920910009, 0.7426381891055804, 0.13104673104673104, 0.09703267746746008, 0.2735653436740394, 0.14424407114624507, 0.7204858547249852, 0.5009374716192899, 0.0, 0.14366600790513834, 0.0, 0.3717586640412727, 0.13104673104673104, 0.10126051484747135, 0.19683504900896207, 0.5571854349827496, 0.101713413398196, 0.0905049660484443, 0.26666666666666666, 0.29229291121874246, 0.0, 0.1347711576960589, 0.1614101478231913, 0.1008145839667579, 0.09735578431230606, 0.16025741226811357, 0.4881462136896919, 0.614361487799284, 0.10319131351740046, 0.7204858547249852, 0.33611424807076984, 0.46712378530560356, 0.11136912604303907, 0.1674519321258452, 0.4993203957877871, 0.3651166768014594, 0.08797944868580217, 0.13104673104673104, 0.11462450592885375, 0.0, 0.11153978871370177, 0.0, 0.16666666666666666, 0.0, 0.5729957116625914, 0.1339187282122065, 0.8552660633017776, 0.4355350265676352, 0.40623459032549947, 0.5427684634206373, 0.07731257091870902, 0.0, 0.41506965256965256, 0.0, 0.12244490614055832, 0.13757727555345, 0.09377180790224268, 0.13696327826762608, 0.0, 0.09413412674282239, 0.5729957116625914, 0.3282775674879255]\n"
     ]
    }
   ],
   "source": [
    "similarity = []\n",
    "d ={}\n",
    "for sentence in corpus:\n",
    "    #print \"SymmetricSimilarity(\\\"%s\\\", \\\"%s\\\") = %s\" % (\n",
    "    #    \"Trancript\", sentence, symmetric_sentence_similarity(corpus_transcript[0], sentence))\n",
    "    #d[(symmetric_sentence_similarity(corpus_transcript[0], sentence))]=sentence\n",
    "    similarity.append(symmetric_sentence_similarity(corpus_transcript[0], sentence))\n",
    "    #similarity.append(d.copy())\n",
    "print similarity"
   ]
  },
  {
   "cell_type": "code",
   "execution_count": 254,
   "metadata": {
    "collapsed": false
   },
   "outputs": [
    {
     "name": "stdout",
     "output_type": "stream",
     "text": [
      "lll 0.0\n",
      "mom dog hat song name cooki 0.107076510446\n",
      "feel like guy attend harvard music 0.147401270227\n",
      "kept sing math class classmat understand 0.162989848316\n",
      "real rap 0.0946313224286\n",
      "head coach lsu 0.108359372937\n",
      "pleas rise nation anthem 0.117752356339\n",
      "love cooki moster song c cooki 0.476501276501\n",
      "rhett link anyon 0.103191313517\n",
      "life 0.153208566796\n",
      "sound like heavi metal 0.114855856704\n",
      "jam st nd grader 0.0917342621147\n",
      "p 0.101260514847\n",
      "penguin know think anoth word 0.250021023662\n",
      "chocol rain 0.0704335803441\n",
      "bite cooki cooki cooki cooki cooki cooki cooki cooki cooki cooki shape like c 0.605297781928\n",
      "lol 0.0\n",
      "eue gosot muito dee cookiee muito baum 0.124301401923\n",
      " 0.0\n",
      "babi nation anthem 0.0914361604579\n",
      "gfu 0.0\n",
      "u 0.0668983953671\n",
      "p poni good enough 0.610511710512\n",
      "c clown presid good 0.815793171475\n",
      "notic oscar sing 0.0937718079022\n",
      " 0.0\n",
      "c fo 0.720485854725\n",
      "smoke canist 0.0758724948269\n",
      "cooki cookieeee cooki cooki 0.0\n",
      "includ oscar grouch monster 0.338838697534\n",
      "cannot stop sing awesom song dont even hlding cooki 0.151320117081\n",
      "song awsom 0.0937718079022\n",
      "feel old 0.0986874112673\n",
      "duet franki boyl better 0.108295918702\n",
      "v veggi good enough 0.620572185751\n",
      "nation anthem comment think nation anthem 0.115829653438\n",
      "love song cute funni 0.114742383221\n",
      " 0.0\n",
      "iv never hard 0.117345758107\n",
      "favorit post grind vegan diabet fur death avant gard pre vegeterian blue core band 0.122832079354\n",
      "sesam street cooki monster sing c cooki season season 0.373138214443\n",
      "favourit song rn 0.0988450559103\n",
      "c covfef good enough 0.855266063302\n",
      "fun fact part cooki monster goe c rest cut look close 0.288756688446\n",
      "still love 0.333333333333\n",
      "strong lyric 0.227342042016\n",
      "love comment thing littl kid parent 0.282258454106\n",
      "older kid teen adult question life desicion 0.163482652613\n",
      "heard year lol 0.120730839209\n",
      "letter chocol c 0.742638189106\n",
      "love cooki 0.131046731047\n",
      "childhood song 0.0970326774675\n",
      "year cooki monster song 0.273565343674\n",
      "help fulli grown adult trap sesam street bing 0.144244071146\n",
      "c c nt mani themat 0.720485854725\n",
      "inde good song know cooki monster song sister believ one replac cooki monster sinc heard rumor replac veggi monster 0.500937471619\n",
      " 0.0\n",
      "love song much nephew use sing sing song littl us marin hahaha 0.143666007905\n",
      "loooooooooool 0.0\n",
      "person find puppi middleton grotesqu look muscular arm bodi make head look larg let eat cooki happi 0.371758664041\n",
      "love cooki 0.131046731047\n",
      "si cooki 0.101260514847\n",
      "hum sorri k kooki 0.196835049009\n",
      "like cooki monster 0.557185434983\n",
      "piano lesson one song 0.101713413398\n",
      "ja rule 0.0905049660484\n",
      "bring back mani memori 0.266666666667\n",
      "star cooki monster sesam street kako oobi 0.292292911219\n",
      " 0.0\n",
      "kid cartoon channel show video famili tyron isiah hargrov brother jessica jay troch big sister show put show 0.134771157696\n",
      "nba k anthem 0.161410147823\n",
      "top anim intro 0.100814583967\n",
      "use channel logo comment 0.0973557843123\n",
      "ehhhh got crave cooki watch 0.160257412268\n",
      "nowday peopl instead cooki iphon social media sometim thing peopl know 0.48814621369\n",
      "littl parent sang c chloe good enough 0.614361487799\n",
      "name chloe 0.103191313517\n",
      "alway wonder c 0.720485854725\n",
      "ha silli cooki monster 0.336114248071\n",
      "good song 0.467123785306\n",
      "web design lectur eat cooki 0.111369126043\n",
      "see grover harri background 0.167451932126\n",
      "c cancer 0.499320395788\n",
      "child alway dream cooki cooki monster 0.365116676801\n",
      "watch 0.0879794486858\n",
      "love 0.131046731047\n",
      "oh god favorit song kid 0.114624505929\n",
      "lol 0.0\n",
      "cool 0.111539788714\n",
      " 0.0\n",
      "nice 0.166666666667\n",
      "anoy 0.0\n",
      "frank oz cooki monster 0.572995711663\n",
      "sesam street alway help rememb jim henson 0.133918728212\n",
      "c cooki good enough 0.855266063302\n",
      "batman sing c cooki 0.435535026568\n",
      "good song love 0.406234590325\n",
      "c clitori found 0.542768463421\n",
      "grog strongjaw 0.0773125709187\n",
      " 0.0\n",
      "cooki kuki c cooki kuki magyarok bizto rtik xd 0.41506965257\n",
      "cute 0.0\n",
      "year old music playlist 0.122444906141\n",
      "asham grew sesam street 0.137577275553\n",
      "hi 0.0937718079022\n",
      "percent rapper day sound 0.136963278268\n",
      "muppet perform 0.0\n",
      "carrol spinney oscar 0.0941341267428\n",
      "frank oz cooki monster grover 0.572995711663\n",
      "jerri nelson herri monster 0.328277567488\n",
      "{'': 0.0, 'cute': 0.0, u'favorit post grind vegan diabet fur death avant gard pre vegeterian blue core band': 0.12283207935381849, u'asham grew sesam street': 0.13757727555345, u'see grover harri background': 0.1674519321258452, u'p poni good enough': 0.6105117105117105, u'inde good song know cooki monster song sister believ one replac cooki monster sinc heard rumor replac veggi monster': 0.5009374716192899, u'si cooki': 0.10126051484747135, u'hum sorri k kooki': 0.19683504900896207, u'littl parent sang c chloe good enough': 0.614361487799284, u'fun fact part cooki monster goe c rest cut look close': 0.2887566884461294, 'c cancer': 0.4993203957877871, u'watch': 0.08797944868580217, u'cannot stop sing awesom song dont even hlding cooki': 0.15132011708098667, u'c cooki good enough': 0.8552660633017776, 'cool': 0.11153978871370177, u'frank oz cooki monster grover': 0.5729957116625914, u'child alway dream cooki cooki monster': 0.3651166768014594, 'real rap': 0.09463132242863703, u'smoke canist': 0.07587249482693015, u'older kid teen adult question life desicion': 0.1634826526130874, 'use channel logo comment': 0.09735578431230606, 'still love': 0.3333333333333333, 'lll': 0.0, 'jam st nd grader': 0.09173426211469689, 'gfu': 0.0, u'song awsom': 0.09377180790224268, u'love cooki': 0.13104673104673104, u'ehhhh got crave cooki watch': 0.16025741226811357, 'feel old': 0.09868741126733455, u'includ oscar grouch monster': 0.33883869753434975, 'p': 0.10126051484747135, 'childhood song': 0.09703267746746008, u'jerri nelson herri monster': 0.3282775674879255, 'head coach lsu': 0.10835937293737805, u'mom dog hat song name cooki': 0.10707651044607566, 'name chloe': 0.10319131351740046, 'loooooooooool': 0.0, u'muppet perform': 0.0, u'person find puppi middleton grotesqu look muscular arm bodi make head look larg let eat cooki happi': 0.3717586640412727, u'nowday peopl instead cooki iphon social media sometim thing peopl know': 0.4881462136896919, u'love cooki moster song c cooki': 0.4765012765012765, u'notic oscar sing': 0.09377180790224268, 'c fo': 0.7204858547249852, 'ja rule': 0.0905049660484443, u'anoy': 0.0, u'year old music playlist': 0.12244490614055832, u'like cooki monster': 0.5571854349827496, u'star cooki monster sesam street kako oobi': 0.29229291121874246, u'c clitori found': 0.5427684634206373, u'nation anthem comment think nation anthem': 0.11582965343834908, 'love': 0.13104673104673104, 'iv never hard': 0.11734575810662767, u'feel like guy attend harvard music': 0.1474012702273572, u'sesam street alway help rememb jim henson': 0.1339187282122065, u'bring back mani memori': 0.26666666666666666, u'alway wonder c': 0.7204858547249852, u'heard year lol': 0.12073083920910009, u'ha silli cooki monster': 0.33611424807076984, u'rhett link anyon': 0.10319131351740046, 'lol': 0.0, u'web design lectur eat cooki': 0.11136912604303907, u'penguin know think anoth word': 0.25002102366232803, u'oh god favorit song kid': 0.11462450592885375, u'v veggi good enough': 0.6205721857507571, u'top anim intro': 0.1008145839667579, 'good song': 0.46712378530560356, u'piano lesson one song': 0.101713413398196, u'pleas rise nation anthem': 0.11775235633931287, u'sound like heavi metal': 0.11485585670368277, u'love song cute funni': 0.11474238322064409, u'c clown presid good': 0.8157931714749898, u'bite cooki cooki cooki cooki cooki cooki cooki cooki cooki cooki shape like c': 0.6052977819282168, u'kid cartoon channel show video famili tyron isiah hargrov brother jessica jay troch big sister show put show': 0.1347711576960589, u'c covfef good enough': 0.8552660633017776, u'duet franki boyl better': 0.10829591870192895, 'life': 0.1532085667955233, u'letter chocol c': 0.7426381891055804, u'cooki cookieeee cooki cooki': 0.0, u'strong lyric': 0.2273420420159551, u'percent rapper day sound': 0.13696327826762608, u'frank oz cooki monster': 0.5729957116625914, u'babi nation anthem': 0.09143616045789958, u'chocol rain': 0.07043358034406628, 'grog strongjaw': 0.07731257091870902, u'kept sing math class classmat understand': 0.16298984831593527, u'eue gosot muito dee cookiee muito baum': 0.12430140192288529, 'nice': 0.16666666666666666, u'help fulli grown adult trap sesam street bing': 0.14424407114624507, u'year cooki monster song': 0.2735653436740394, u'c c nt mani themat': 0.7204858547249852, u'sesam street cooki monster sing c cooki season season': 0.37313821444256223, 'good song love': 0.40623459032549947, u'batman sing c cooki': 0.4355350265676352, u'favourit song rn': 0.09884505591027329, u'love comment thing littl kid parent': 0.28225845410628014, u'cooki kuki c cooki kuki magyarok bizto rtik xd': 0.41506965256965256, u'love song much nephew use sing sing song littl us marin hahaha': 0.14366600790513834, 'hi': 0.09377180790224268, 'u': 0.06689839536706545, 'nba k anthem': 0.1614101478231913, u'carrol spinney oscar': 0.09413412674282239}\n",
      "[0.0, 0.10707651044607566, 0.1474012702273572, 0.16298984831593527, 0.09463132242863703, 0.10835937293737805, 0.11775235633931287, 0.4765012765012765, 0.10319131351740046, 0.1532085667955233, 0.11485585670368277, 0.09173426211469689, 0.10126051484747135, 0.25002102366232803, 0.07043358034406628, 0.6052977819282168, 0.0, 0.12430140192288529, 0.0, 0.09143616045789958, 0.0, 0.06689839536706545, 0.6105117105117105, 0.8157931714749898, 0.09377180790224268, 0.0, 0.7204858547249852, 0.07587249482693015, 0.0, 0.33883869753434975, 0.15132011708098667, 0.09377180790224268, 0.09868741126733455, 0.10829591870192895, 0.6205721857507571, 0.11582965343834908, 0.11474238322064409, 0.0, 0.11734575810662767, 0.12283207935381849, 0.37313821444256223, 0.09884505591027329, 0.8552660633017776, 0.2887566884461294, 0.3333333333333333, 0.2273420420159551, 0.28225845410628014, 0.1634826526130874, 0.12073083920910009, 0.7426381891055804, 0.13104673104673104, 0.09703267746746008, 0.2735653436740394, 0.14424407114624507, 0.7204858547249852, 0.5009374716192899, 0.0, 0.14366600790513834, 0.0, 0.3717586640412727, 0.13104673104673104, 0.10126051484747135, 0.19683504900896207, 0.5571854349827496, 0.101713413398196, 0.0905049660484443, 0.26666666666666666, 0.29229291121874246, 0.0, 0.1347711576960589, 0.1614101478231913, 0.1008145839667579, 0.09735578431230606, 0.16025741226811357, 0.4881462136896919, 0.614361487799284, 0.10319131351740046, 0.7204858547249852, 0.33611424807076984, 0.46712378530560356, 0.11136912604303907, 0.1674519321258452, 0.4993203957877871, 0.3651166768014594, 0.08797944868580217, 0.13104673104673104, 0.11462450592885375, 0.0, 0.11153978871370177, 0.0, 0.16666666666666666, 0.0, 0.5729957116625914, 0.1339187282122065, 0.8552660633017776, 0.4355350265676352, 0.40623459032549947, 0.5427684634206373, 0.07731257091870902, 0.0, 0.41506965256965256, 0.0, 0.12244490614055832, 0.13757727555345, 0.09377180790224268, 0.13696327826762608, 0.0, 0.09413412674282239, 0.5729957116625914, 0.3282775674879255, 0.0, 0.10707651044607566, 0.1474012702273572, 0.16298984831593527, 0.09463132242863703, 0.10835937293737805, 0.11775235633931287, 0.4765012765012765, 0.10319131351740046, 0.1532085667955233, 0.11485585670368277, 0.09173426211469689, 0.10126051484747135, 0.25002102366232803, 0.07043358034406628, 0.6052977819282168, 0.0, 0.12430140192288529, 0.0, 0.09143616045789958, 0.0, 0.06689839536706545, 0.6105117105117105, 0.8157931714749898, 0.09377180790224268, 0.0, 0.7204858547249852, 0.07587249482693015, 0.0, 0.33883869753434975, 0.15132011708098667, 0.09377180790224268, 0.09868741126733455, 0.10829591870192895, 0.6205721857507571, 0.11582965343834908, 0.11474238322064409, 0.0, 0.11734575810662767, 0.12283207935381849, 0.37313821444256223, 0.09884505591027329, 0.8552660633017776, 0.2887566884461294, 0.3333333333333333, 0.2273420420159551, 0.28225845410628014, 0.1634826526130874, 0.12073083920910009, 0.7426381891055804, 0.13104673104673104, 0.09703267746746008, 0.2735653436740394, 0.14424407114624507, 0.7204858547249852, 0.5009374716192899, 0.0, 0.14366600790513834, 0.0, 0.3717586640412727, 0.13104673104673104, 0.10126051484747135, 0.19683504900896207, 0.5571854349827496, 0.101713413398196, 0.0905049660484443, 0.26666666666666666, 0.29229291121874246, 0.0, 0.1347711576960589, 0.1614101478231913, 0.1008145839667579, 0.09735578431230606, 0.16025741226811357, 0.4881462136896919, 0.614361487799284, 0.10319131351740046, 0.7204858547249852, 0.33611424807076984, 0.46712378530560356, 0.11136912604303907, 0.1674519321258452, 0.4993203957877871, 0.3651166768014594, 0.08797944868580217, 0.13104673104673104, 0.11462450592885375, 0.0, 0.11153978871370177, 0.0, 0.16666666666666666, 0.0, 0.5729957116625914, 0.1339187282122065, 0.8552660633017776, 0.4355350265676352, 0.40623459032549947, 0.5427684634206373, 0.07731257091870902, 0.0, 0.41506965256965256, 0.0, 0.12244490614055832, 0.13757727555345, 0.09377180790224268, 0.13696327826762608, 0.0, 0.09413412674282239, 0.5729957116625914, 0.3282775674879255, 0.0, 0.10707651044607566, 0.1474012702273572, 0.16298984831593527, 0.09463132242863703, 0.10835937293737805, 0.11775235633931287, 0.4765012765012765, 0.10319131351740046, 0.1532085667955233, 0.11485585670368277, 0.09173426211469689, 0.10126051484747135, 0.25002102366232803, 0.07043358034406628, 0.6052977819282168, 0.0, 0.12430140192288529, 0.0, 0.09143616045789958, 0.0, 0.06689839536706545, 0.6105117105117105, 0.8157931714749898, 0.09377180790224268, 0.0, 0.7204858547249852, 0.07587249482693015, 0.0, 0.33883869753434975, 0.15132011708098667, 0.09377180790224268, 0.09868741126733455, 0.10829591870192895, 0.6205721857507571, 0.11582965343834908, 0.11474238322064409, 0.0, 0.11734575810662767, 0.12283207935381849, 0.37313821444256223, 0.09884505591027329, 0.8552660633017776, 0.2887566884461294, 0.3333333333333333, 0.2273420420159551, 0.28225845410628014, 0.1634826526130874, 0.12073083920910009, 0.7426381891055804, 0.13104673104673104, 0.09703267746746008, 0.2735653436740394, 0.14424407114624507, 0.7204858547249852, 0.5009374716192899, 0.0, 0.14366600790513834, 0.0, 0.3717586640412727, 0.13104673104673104, 0.10126051484747135, 0.19683504900896207, 0.5571854349827496, 0.101713413398196, 0.0905049660484443, 0.26666666666666666, 0.29229291121874246, 0.0, 0.1347711576960589, 0.1614101478231913, 0.1008145839667579, 0.09735578431230606, 0.16025741226811357, 0.4881462136896919, 0.614361487799284, 0.10319131351740046, 0.7204858547249852, 0.33611424807076984, 0.46712378530560356, 0.11136912604303907, 0.1674519321258452, 0.4993203957877871, 0.3651166768014594, 0.08797944868580217, 0.13104673104673104, 0.11462450592885375, 0.0, 0.11153978871370177, 0.0, 0.16666666666666666, 0.0, 0.5729957116625914, 0.1339187282122065, 0.8552660633017776, 0.4355350265676352, 0.40623459032549947, 0.5427684634206373, 0.07731257091870902, 0.0, 0.41506965256965256, 0.0, 0.12244490614055832, 0.13757727555345, 0.09377180790224268, 0.13696327826762608, 0.0, 0.09413412674282239, 0.5729957116625914, 0.3282775674879255, 0.0, 0.10707651044607566, 0.1474012702273572, 0.16298984831593527, 0.09463132242863703, 0.10835937293737805, 0.11775235633931287, 0.4765012765012765, 0.10319131351740046, 0.1532085667955233, 0.11485585670368277, 0.09173426211469689, 0.10126051484747135, 0.25002102366232803, 0.07043358034406628, 0.6052977819282168, 0.0, 0.12430140192288529, 0.0, 0.09143616045789958, 0.0, 0.06689839536706545, 0.6105117105117105, 0.8157931714749898, 0.09377180790224268, 0.0, 0.7204858547249852, 0.07587249482693015, 0.0, 0.33883869753434975, 0.15132011708098667, 0.09377180790224268, 0.09868741126733455, 0.10829591870192895, 0.6205721857507571, 0.11582965343834908, 0.11474238322064409, 0.0, 0.11734575810662767, 0.12283207935381849, 0.37313821444256223, 0.09884505591027329, 0.8552660633017776, 0.2887566884461294, 0.3333333333333333, 0.2273420420159551, 0.28225845410628014, 0.1634826526130874, 0.12073083920910009, 0.7426381891055804, 0.13104673104673104, 0.09703267746746008, 0.2735653436740394, 0.14424407114624507, 0.7204858547249852, 0.5009374716192899, 0.0, 0.14366600790513834, 0.0, 0.3717586640412727, 0.13104673104673104, 0.10126051484747135, 0.19683504900896207, 0.5571854349827496, 0.101713413398196, 0.0905049660484443, 0.26666666666666666, 0.29229291121874246, 0.0, 0.1347711576960589, 0.1614101478231913, 0.1008145839667579, 0.09735578431230606, 0.16025741226811357, 0.4881462136896919, 0.614361487799284, 0.10319131351740046, 0.7204858547249852, 0.33611424807076984, 0.46712378530560356, 0.11136912604303907, 0.1674519321258452, 0.4993203957877871, 0.3651166768014594, 0.08797944868580217, 0.13104673104673104, 0.11462450592885375, 0.0, 0.11153978871370177, 0.0, 0.16666666666666666, 0.0, 0.5729957116625914, 0.1339187282122065, 0.8552660633017776, 0.4355350265676352, 0.40623459032549947, 0.5427684634206373, 0.07731257091870902, 0.0, 0.41506965256965256, 0.0, 0.12244490614055832, 0.13757727555345, 0.09377180790224268, 0.13696327826762608, 0.0, 0.09413412674282239, 0.5729957116625914, 0.3282775674879255, 0.0, 0.10707651044607566, 0.1474012702273572, 0.16298984831593527, 0.09463132242863703, 0.10835937293737805, 0.11775235633931287, 0.4765012765012765, 0.10319131351740046, 0.1532085667955233, 0.11485585670368277, 0.09173426211469689, 0.10126051484747135, 0.25002102366232803, 0.07043358034406628, 0.6052977819282168, 0.0, 0.12430140192288529, 0.0, 0.09143616045789958, 0.0, 0.06689839536706545, 0.6105117105117105, 0.8157931714749898, 0.09377180790224268, 0.0, 0.7204858547249852, 0.07587249482693015, 0.0, 0.33883869753434975, 0.15132011708098667, 0.09377180790224268, 0.09868741126733455, 0.10829591870192895, 0.6205721857507571, 0.11582965343834908, 0.11474238322064409, 0.0, 0.11734575810662767, 0.12283207935381849, 0.37313821444256223, 0.09884505591027329, 0.8552660633017776, 0.2887566884461294, 0.3333333333333333, 0.2273420420159551, 0.28225845410628014, 0.1634826526130874, 0.12073083920910009, 0.7426381891055804, 0.13104673104673104, 0.09703267746746008, 0.2735653436740394, 0.14424407114624507, 0.7204858547249852, 0.5009374716192899, 0.0, 0.14366600790513834, 0.0, 0.3717586640412727, 0.13104673104673104, 0.10126051484747135, 0.19683504900896207, 0.5571854349827496, 0.101713413398196, 0.0905049660484443, 0.26666666666666666, 0.29229291121874246, 0.0, 0.1347711576960589, 0.1614101478231913, 0.1008145839667579, 0.09735578431230606, 0.16025741226811357, 0.4881462136896919, 0.614361487799284, 0.10319131351740046, 0.7204858547249852, 0.33611424807076984, 0.46712378530560356, 0.11136912604303907, 0.1674519321258452, 0.4993203957877871, 0.3651166768014594, 0.08797944868580217, 0.13104673104673104, 0.11462450592885375, 0.0, 0.11153978871370177, 0.0, 0.16666666666666666, 0.0, 0.5729957116625914, 0.1339187282122065, 0.8552660633017776, 0.4355350265676352, 0.40623459032549947, 0.5427684634206373, 0.07731257091870902, 0.0, 0.41506965256965256, 0.0, 0.12244490614055832, 0.13757727555345, 0.09377180790224268, 0.13696327826762608, 0.0, 0.09413412674282239, 0.5729957116625914, 0.3282775674879255]\n"
     ]
    }
   ],
   "source": [
    "from collections import defaultdict\n",
    "similarityDict = []\n",
    "d = {}\n",
    "for sentence in corpus:\n",
    "    #print \"SymmetricSimilarity(\\\"%s\\\", \\\"%s\\\") = %s\" % (\n",
    "    #    \"Trancript\", sentence, symmetric_sentence_similarity(corpus_transcript[0], sentence))\n",
    "    sim=(symmetric_sentence_similarity(corpus_transcript[0], sentence))\n",
    "    #print sim\n",
    "    d[sentence] = sim\n",
    "    print sentence,(symmetric_sentence_similarity(corpus_transcript[0], sentence))\n",
    "    similarity.append(symmetric_sentence_similarity(corpus_transcript[0], sentence))\n",
    "    #similarity.append(d.copy())\n",
    "print d\n",
    "print similarity"
   ]
  },
  {
   "cell_type": "code",
   "execution_count": 252,
   "metadata": {
    "collapsed": false
   },
   "outputs": [
    {
     "name": "stdout",
     "output_type": "stream",
     "text": [
      "[]\n"
     ]
    }
   ],
   "source": [
    "print d[0.406234590325]"
   ]
  },
  {
   "cell_type": "code",
   "execution_count": 271,
   "metadata": {
    "collapsed": false
   },
   "outputs": [
    {
     "name": "stdout",
     "output_type": "stream",
     "text": [
      "(u'c cooki good enough', 0.8552660633017776)\n",
      "(u'c covfef good enough', 0.8552660633017776)\n",
      "(u'c clown presid good', 0.8157931714749898)\n",
      "(u'letter chocol c', 0.7426381891055804)\n",
      "('c fo', 0.7204858547249852)\n",
      "(u'alway wonder c', 0.7204858547249852)\n",
      "(u'c c nt mani themat', 0.7204858547249852)\n",
      "(u'v veggi good enough', 0.6205721857507571)\n",
      "(u'littl parent sang c chloe good enough', 0.614361487799284)\n",
      "(u'p poni good enough', 0.6105117105117105)\n",
      "(u'bite cooki cooki cooki cooki cooki cooki cooki cooki cooki cooki shape like c', 0.6052977819282168)\n",
      "(u'frank oz cooki monster grover', 0.5729957116625914)\n",
      "(u'frank oz cooki monster', 0.5729957116625914)\n",
      "(u'like cooki monster', 0.5571854349827496)\n",
      "(u'c clitori found', 0.5427684634206373)\n",
      "(u'inde good song know cooki monster song sister believ one replac cooki monster sinc heard rumor replac veggi monster', 0.5009374716192899)\n",
      "('c cancer', 0.4993203957877871)\n",
      "(u'nowday peopl instead cooki iphon social media sometim thing peopl know', 0.4881462136896919)\n",
      "(u'love cooki moster song c cooki', 0.4765012765012765)\n",
      "('good song', 0.46712378530560356)\n",
      "(u'batman sing c cooki', 0.4355350265676352)\n",
      "(u'cooki kuki c cooki kuki magyarok bizto rtik xd', 0.41506965256965256)\n",
      "('good song love', 0.40623459032549947)\n",
      "(u'sesam street cooki monster sing c cooki season season', 0.37313821444256223)\n",
      "(u'person find puppi middleton grotesqu look muscular arm bodi make head look larg let eat cooki happi', 0.3717586640412727)\n",
      "(u'child alway dream cooki cooki monster', 0.3651166768014594)\n",
      "(u'includ oscar grouch monster', 0.33883869753434975)\n",
      "(u'ha silli cooki monster', 0.33611424807076984)\n",
      "('still love', 0.3333333333333333)\n"
     ]
    }
   ],
   "source": [
    "\n",
    "sortedItems = sorted(d , key=d.get , reverse = True)\n",
    "for element in sortedItems[0:29] :\n",
    "       print (element, d.get(element))"
   ]
  },
  {
   "cell_type": "code",
   "execution_count": 272,
   "metadata": {
    "collapsed": false
   },
   "outputs": [
    {
     "data": {
      "text/plain": [
       "[u'c cooki good enough',\n",
       " u'c covfef good enough',\n",
       " u'c clown presid good',\n",
       " u'letter chocol c',\n",
       " 'c fo',\n",
       " u'alway wonder c',\n",
       " u'c c nt mani themat',\n",
       " u'v veggi good enough',\n",
       " u'littl parent sang c chloe good enough']"
      ]
     },
     "execution_count": 272,
     "metadata": {},
     "output_type": "execute_result"
    }
   ],
   "source": [
    "sortedItems[0:9]"
   ]
  },
  {
   "cell_type": "code",
   "execution_count": 269,
   "metadata": {
    "collapsed": false
   },
   "outputs": [
    {
     "ename": "TypeError",
     "evalue": "get expected at least 1 arguments, got 0",
     "output_type": "error",
     "traceback": [
      "\u001b[0;31m---------------------------------------------------------------------------\u001b[0m",
      "\u001b[0;31mTypeError\u001b[0m                                 Traceback (most recent call last)",
      "\u001b[0;32m<ipython-input-269-d2838e9a1f14>\u001b[0m in \u001b[0;36m<module>\u001b[0;34m()\u001b[0m\n\u001b[0;32m----> 1\u001b[0;31m \u001b[0md\u001b[0m\u001b[1;33m.\u001b[0m\u001b[0mget\u001b[0m\u001b[1;33m(\u001b[0m\u001b[1;33m)\u001b[0m\u001b[1;33m\u001b[0m\u001b[0m\n\u001b[0m",
      "\u001b[0;31mTypeError\u001b[0m: get expected at least 1 arguments, got 0"
     ]
    }
   ],
   "source": []
  },
  {
   "cell_type": "code",
   "execution_count": null,
   "metadata": {
    "collapsed": true
   },
   "outputs": [],
   "source": []
  }
 ],
 "metadata": {
  "kernelspec": {
   "display_name": "Python 2",
   "language": "python",
   "name": "python2"
  },
  "language_info": {
   "codemirror_mode": {
    "name": "ipython",
    "version": 2
   },
   "file_extension": ".py",
   "mimetype": "text/x-python",
   "name": "python",
   "nbconvert_exporter": "python",
   "pygments_lexer": "ipython2",
   "version": "2.7.13"
  }
 },
 "nbformat": 4,
 "nbformat_minor": 2
}
